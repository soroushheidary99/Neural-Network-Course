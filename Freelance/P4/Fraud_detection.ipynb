{
  "nbformat": 4,
  "nbformat_minor": 0,
  "metadata": {
    "colab": {
      "name": "Fraud_detection.ipynb",
      "provenance": [],
      "collapsed_sections": []
    },
    "kernelspec": {
      "name": "python3",
      "display_name": "Python 3.8.6 64-bit",
      "metadata": {
        "interpreter": {
          "hash": "22a65272222cbb2af394208b6b1084e87d6b722a452b01eb2218b29e45d3e2f0"
        }
      }
    },
    "accelerator": "GPU"
  },
  "cells": [
    {
      "cell_type": "code",
      "metadata": {
        "id": "kKwG6S7xzIV6"
      },
      "source": [
        "import pandas as pd\n",
        "import numpy as np\n",
        "import seaborn as sns\n",
        "\n",
        "\n",
        "from tensorflow.keras.layers import Dense\n",
        "from tensorflow.keras.regularizers import l2\n",
        "from tensorflow.keras.utils import to_categorical, plot_model\n",
        "from tensorflow.keras.optimizers import SGD, Adam\n",
        "from tensorflow.keras.models import Sequential, Model\n",
        "from tensorflow.keras.layers import Dense, Dropout, Input, BatchNormalization, Add\n",
        "from tensorflow.keras.callbacks import EarlyStopping, ReduceLROnPlateau\n",
        "from matplotlib import pyplot as plt\n",
        "from sklearn import metrics\n",
        "from sklearn.metrics import classification_report, confusion_matrix\n",
        "\n",
        "from google.colab import drive\n",
        "\n",
        "import tensorflow as tf\n",
        "\n",
        "from sklearn.model_selection import train_test_split\n",
        "from tensorflow.keras import layers\n",
        "from tensorflow.keras.layers.experimental import preprocessing\n",
        "\n",
        "from sklearn.preprocessing import OneHotEncoder\n",
        "from sklearn.preprocessing import LabelBinarizer\n",
        "\n",
        "import zipfile \n",
        "import PIL\n",
        "%matplotlib inline"
      ],
      "execution_count": 24,
      "outputs": []
    },
    {
      "cell_type": "code",
      "metadata": {
        "colab": {
          "base_uri": "https://localhost:8080/"
        },
        "id": "Vn3hLS6hJK_A",
        "outputId": "854a17b2-3ede-4058-bdbf-9082d8ef4f7c"
      },
      "source": [
        "\n",
        "drive.mount('/content/drive/')"
      ],
      "execution_count": 25,
      "outputs": []
    },
    {
      "cell_type": "code",
      "metadata": {
        "colab": {
          "base_uri": "https://localhost:8080/"
        },
        "id": "EDMk6O5KJjIV",
        "outputId": "6c504435-00fb-44a2-a221-b1d551d407f6"
      },
      "source": [
        "!ls '/content/drive/My Drive/Neural Network/Proj3_data'"
      ],
      "execution_count": 26,
      "outputs": []
    },
    {
      "cell_type": "code",
      "metadata": {
        "colab": {
          "base_uri": "https://localhost:8080/"
        },
        "id": "JbuOT3uTKOcu",
        "outputId": "3f3ec3fb-2e1f-4488-d8f0-29bce06ed914"
      },
      "source": [
        " !unzip '/content/drive/My Drive/Neural Network/Proj3_data/train_identity.csv.zip' -d '/content/drive/My Drive/Neural Network/Proj3_unzip'"
      ],
      "execution_count": 27,
      "outputs": []
    },
    {
      "cell_type": "code",
      "metadata": {
        "colab": {
          "base_uri": "https://localhost:8080/"
        },
        "id": "JaLh8XioK2Wv",
        "outputId": "6317c471-f457-4bc8-b26c-d19169eb1a41"
      },
      "source": [
        "!unzip '/content/drive/My Drive/Neural Network/Proj3_data/sample_submission.csv.zip' -d '/content/drive/My Drive/Neural Network/Proj3_unzip'"
      ],
      "execution_count": 28,
      "outputs": []
    },
    {
      "cell_type": "code",
      "metadata": {
        "colab": {
          "base_uri": "https://localhost:8080/"
        },
        "id": "9BNbuCWZQ2GT",
        "outputId": "0f9e2276-5e90-47c6-e1af-5b63d4a4eeaa"
      },
      "source": [
        "!unzip '/content/drive/My Drive/Neural Network/Proj3_data/train_transaction.csv.zip' -d '/content/drive/My Drive/Neural Network/Proj3_unzip'"
      ],
      "execution_count": 29,
      "outputs": []
    },
    {
      "cell_type": "code",
      "metadata": {
        "colab": {
          "base_uri": "https://localhost:8080/"
        },
        "id": "G30FVRMfJ_ke",
        "outputId": "c74c3d82-de2b-4062-c290-7912585552ef"
      },
      "source": [
        "\n",
        "\n",
        "traintransdata = pd.read_csv(r'/content/drive/My Drive/Neural Network/Proj3_unzip/train_transaction.csv', index_col=0)\n",
        "\n",
        "testtransdata = pd.read_csv(r'/content/drive/My Drive/Neural Network/Proj3_unzip/test_transaction.csv', index_col=0)\n",
        "\n"
      ],
      "execution_count": 30,
      "outputs": []
    },
    {
      "cell_type": "code",
      "metadata": {
        "colab": {
          "base_uri": "https://localhost:8080/"
        },
        "id": "CSXKcPuHRau_",
        "outputId": "7e95d87f-6cf2-4204-e019-97136a4c2376"
      },
      "source": [
        "\n",
        "indata = pd.read_csv(r'/content/drive/My Drive/Neural Network/Proj3_unzip/train_identity.csv', index_col=0)\n",
        "\n",
        "test_indata = pd.read_csv(r'/content/drive/My Drive/Neural Network/Proj3_unzip/test_identity.csv', index_col=0)\n"
      ],
      "execution_count": 31,
      "outputs": []
    },
    {
      "cell_type": "code",
      "metadata": {
        "id": "2KovXs8s0odX"
      },
      "source": [
        "df = pd.merge(traintransdata, indata, how='left', on=['TransactionID'])\n",
        "df_test = pd.merge(testtransdata, test_indata, how='left', on=['TransactionID'])\n",
        "\n",
        "del indata, test_indata, traintransdata, testtransdata   # to free up memory"
      ],
      "execution_count": 32,
      "outputs": []
    },
    {
      "cell_type": "code",
      "execution_count": 33,
      "metadata": {},
      "outputs": [
        {
          "output_type": "stream",
          "name": "stdout",
          "text": [
            "<class 'pandas.core.frame.DataFrame'>\nInt64Index: 590540 entries, 2987000 to 3577539\nColumns: 433 entries, isFraud to DeviceInfo\ndtypes: float64(399), int64(3), object(31)\nmemory usage: 1.9+ GB\n"
          ]
        }
      ],
      "source": [
        "df.info()\n"
      ]
    },
    {
      "cell_type": "code",
      "execution_count": 34,
      "metadata": {},
      "outputs": [
        {
          "output_type": "stream",
          "name": "stdout",
          "text": [
            "<class 'pandas.core.frame.DataFrame'>\nInt64Index: 590540 entries, 2987000 to 3577539\nColumns: 433 entries, isFraud to DeviceInfo\ndtypes: float16(336), float32(66), object(31)\nmemory usage: 671.3+ MB\n<class 'pandas.core.frame.DataFrame'>\nInt64Index: 506691 entries, 3663549 to 4170239\nColumns: 432 entries, TransactionDT to DeviceInfo\ndtypes: float16(335), float32(66), object(31)\nmemory usage: 575.0+ MB\nNone None\n"
          ]
        }
      ],
      "source": [
        "####### this cell reduces the memory usage by changing dtypes\n",
        "def reduce_memory(df) : \n",
        "\n",
        "    for col in df.columns : \n",
        "        if str(df[col].dtype) != 'object' :\n",
        "\n",
        "            max_val = df[col].max()\n",
        "            min_val = df[col].min()\n",
        "            max_abs = max(abs(max_val), abs(min_val))\n",
        "\n",
        "            if  -2**15 <= max_abs < 2**15 : \n",
        "                df[col] = df[col].astype(np.float16)\n",
        "\n",
        "            elif  -2**31 <= max_abs < 2**31 : \n",
        "                df[col] = df[col].astype(np.float32)\n",
        "    \n",
        "    return df\n",
        "\n",
        "\n",
        "df = reduce_memory(df)\n",
        "df_test = reduce_memory(df_test)\n",
        "print(df.info(), df_test.info())"
      ]
    },
    {
      "cell_type": "code",
      "execution_count": 35,
      "metadata": {},
      "outputs": [],
      "source": [
        "df_test.columns = df.drop(['isFraud'], axis=1).columns"
      ]
    },
    {
      "cell_type": "code",
      "execution_count": 36,
      "metadata": {},
      "outputs": [
        {
          "output_type": "stream",
          "name": "stdout",
          "text": [
            "ProductCD has  5  unique values\n",
            "card4 has  5  unique values\n",
            "card6 has  5  unique values\n",
            "P_emaildomain has  60  unique values\n",
            "R_emaildomain has  61  unique values\n",
            "M1 has  3  unique values\n",
            "M2 has  3  unique values\n",
            "M3 has  3  unique values\n",
            "M4 has  4  unique values\n",
            "M5 has  3  unique values\n",
            "M6 has  3  unique values\n",
            "M7 has  3  unique values\n",
            "M8 has  3  unique values\n",
            "M9 has  3  unique values\n",
            "id_12 has  3  unique values\n",
            "id_15 has  4  unique values\n",
            "id_16 has  3  unique values\n",
            "id_23 has  4  unique values\n",
            "id_27 has  3  unique values\n",
            "id_28 has  3  unique values\n",
            "id_29 has  3  unique values\n",
            "id_30 has  76  unique values\n",
            "id_31 has  131  unique values\n",
            "id_33 has  261  unique values\n",
            "id_34 has  5  unique values\n",
            "id_35 has  3  unique values\n",
            "id_36 has  3  unique values\n",
            "id_37 has  3  unique values\n",
            "id_38 has  3  unique values\n",
            "DeviceType has  3  unique values\n",
            "DeviceInfo has  1787  unique values\n"
          ]
        }
      ],
      "source": [
        "####### we want to know each object column and their unique values amount \n",
        "for col in df.columns : \n",
        "    if str(df[col].dtype) == 'object' : \n",
        "        print(col, 'has ', len(df[col].unique()), ' unique values')"
      ]
    },
    {
      "cell_type": "code",
      "execution_count": 37,
      "metadata": {},
      "outputs": [],
      "source": [
        "######## we one hot vector those who have low unique counts\n",
        "what_to_one_hot = []\n",
        "for col in df.columns : \n",
        "    if str(df[col].dtype) == 'object' : \n",
        "        if len(df[col].unique()) <= 5 : \n",
        "            what_to_one_hot.append(col)\n",
        "\n",
        "df = pd.get_dummies(df, columns=what_to_one_hot)\n",
        "df_test = pd.get_dummies(df_test, columns=what_to_one_hot)\n",
        " ###### shape before one hotting was 433, after one hot encoding became 470"
      ]
    },
    {
      "cell_type": "code",
      "execution_count": 38,
      "metadata": {},
      "outputs": [
        {
          "output_type": "stream",
          "name": "stdout",
          "text": [
            "isFraud\ncard6_debit or credit\nid_34_match_status:-1\nid_34_match_status:0\n"
          ]
        }
      ],
      "source": [
        "for i in df.columns : \n",
        "    if i not in df_test : \n",
        "        print(i)"
      ]
    },
    {
      "cell_type": "code",
      "execution_count": 39,
      "metadata": {},
      "outputs": [],
      "source": [
        "####### these are not present in df test so we drop them on df too\n",
        "df = df.drop(['card6_debit or credit', 'id_34_match_status:-1', 'id_34_match_status:0'], axis=1)"
      ]
    },
    {
      "cell_type": "code",
      "execution_count": 40,
      "metadata": {},
      "outputs": [],
      "source": [
        " ####### there remains 4 or 5 columns with object type who have around 1000 unique values and label encoding them wouldnt really help\n",
        " \n",
        "what_to_drop = []\n",
        "for col in df.columns : \n",
        "    if str(df[col].dtype) == 'object' : \n",
        "        #print(col, len(df[col].unique()))  \n",
        "       \n",
        "        what_to_drop.append(col)\n",
        "\n",
        "df = df.drop(what_to_drop, axis=1)\n",
        "df_test = df_test.drop(what_to_drop, axis=1)"
      ]
    },
    {
      "cell_type": "code",
      "execution_count": 41,
      "metadata": {},
      "outputs": [],
      "source": [
        "###### we drop the columns who have more than 90 percent null values, we'll be having problems with null replacement otherwise\n",
        "what_to_drop = []\n",
        "\n",
        "for col in df.columns : \n",
        "    if df[col].isnull().sum().sum() / 590540 >= 0.9 : \n",
        "        what_to_drop.append(col)\n",
        "\n",
        "for col in df_test.columns : \n",
        "    if df_test[col].isnull().sum().sum() / 506691 >= 0.9 : \n",
        "        if col not in what_to_drop : \n",
        "            what_to_drop.append(col)\n",
        "\n",
        "df = df.drop(what_to_drop, axis=1)\n",
        "df_test = df_test.drop(what_to_drop, axis=1)\n"
      ]
    },
    {
      "cell_type": "code",
      "execution_count": 42,
      "metadata": {},
      "outputs": [
        {
          "output_type": "stream",
          "name": "stdout",
          "text": [
            "<class 'pandas.core.frame.DataFrame'>\nInt64Index: 590540 entries, 2987000 to 3577539\nColumns: 451 entries, isFraud to DeviceType_mobile\ndtypes: float16(326), float32(66), uint8(59)\nmemory usage: 553.6 MB\n"
          ]
        }
      ],
      "source": [
        "df.info()"
      ]
    },
    {
      "cell_type": "code",
      "execution_count": null,
      "metadata": {},
      "outputs": [],
      "source": []
    },
    {
      "cell_type": "code",
      "execution_count": 43,
      "metadata": {},
      "outputs": [
        {
          "output_type": "stream",
          "name": "stdout",
          "text": [
            "0 0 0\n"
          ]
        }
      ],
      "source": [
        "#################  we split the fraud and not fraud and we fill the nans in our data frames\n",
        "################# we want to split it because if we dont the mode of not fraud data will dominate the mode on fraud ones\n",
        "df.sort_values(by=['isFraud'], inplace=True)\n",
        "df_group = df.groupby(df.isFraud)\n",
        "\n",
        "df_fraud = df_group.get_group(1)\n",
        "df_notfraud = df_group.get_group(0)\n",
        "\n",
        "df_fraud = df_fraud.drop(['isFraud'], axis=1)\n",
        "df_notfraud = df_notfraud.drop(['isFraud'], axis=1)\n",
        "\n",
        "\n",
        "\n",
        "\n",
        "df_fraud = df_fraud.replace([np.inf, -np.inf], np.nan)\n",
        "df_notfraud = df_notfraud.replace([np.inf, -np.inf], np.nan)\n",
        "df_test = df_test.replace([np.inf, -np.inf], np.nan)\n",
        "\n",
        "\n",
        "for col in df_fraud.columns : \n",
        "    df_fraud[col] = df_fraud[col].fillna(df_fraud[col].mode()[0])\n",
        "\n",
        "for col in df_notfraud.columns : \n",
        "    df_notfraud[col] = df_notfraud[col].fillna(df_notfraud[col].mode()[0])\n",
        "\n",
        "for col in df_test.columns : \n",
        "    df_test[col] = df_test[col].fillna(df_test[col].mode()[0])\n",
        "\n",
        "\n",
        "print(df_notfraud.isnull().sum().sum(), df_fraud.isnull().sum().sum(), df_test.isnull().sum().sum())"
      ]
    },
    {
      "cell_type": "code",
      "execution_count": 47,
      "metadata": {},
      "outputs": [
        {
          "output_type": "execute_result",
          "data": {
            "text/plain": [
              "       TransactionDT  TransactionAmt     card1  card2     card3     card5  \\\n",
              "0           0.559528        0.076990  0.679594  0.144  0.381679  0.919708   \n",
              "1           0.433645        0.038467  0.834495  0.780  0.381679  0.919708   \n",
              "2           0.438636        0.037696  0.585086  0.222  0.381679  0.905109   \n",
              "3           0.450036        0.015064  0.083040  0.442  0.381679  0.919708   \n",
              "4           0.199026        0.132270  0.553276  0.966  0.381679  0.919708   \n",
              "...              ...             ...       ...    ...       ...       ...   \n",
              "20658       0.659998        0.028836  0.489195  0.442  0.381679  0.919708   \n",
              "20659       0.344394        0.011308  0.785628  0.896  0.381679  0.919708   \n",
              "20660       0.281962        0.516151  0.489195  0.442  0.381679  0.919708   \n",
              "20661       0.491993        0.191403  0.161644  0.022  0.381679  0.868613   \n",
              "20662       0.104031        0.014582  0.496571  0.392  0.648855  0.277372   \n",
              "\n",
              "          addr1     addr2     dist1        C1  ...  id_35_F  id_35_T  id_36_F  \\\n",
              "0      0.190141  0.895349  0.000202  0.000214  ...      0.0      1.0      1.0   \n",
              "1      0.443662  0.895349  0.000202  0.002137  ...      0.0      1.0      1.0   \n",
              "2      0.509390  0.895349  0.000202  0.000214  ...      0.0      0.0      0.0   \n",
              "3      0.220657  0.895349  0.002832  0.000427  ...      0.0      0.0      0.0   \n",
              "4      0.776995  0.895349  0.000202  0.000427  ...      0.0      0.0      0.0   \n",
              "...         ...       ...       ...       ...  ...      ...      ...      ...   \n",
              "20658  0.220657  0.895349  0.000202  0.000427  ...      0.0      1.0      1.0   \n",
              "20659  0.859155  0.895349  0.000202  0.000427  ...      0.0      0.0      0.0   \n",
              "20660  0.330986  0.895349  0.000202  0.000641  ...      0.0      0.0      0.0   \n",
              "20661  0.037559  0.895349  0.000202  0.000214  ...      0.0      0.0      0.0   \n",
              "20662  0.220657  0.895349  0.000202  0.001496  ...      1.0      0.0      1.0   \n",
              "\n",
              "       id_36_T  id_37_F  id_37_T  id_38_F  id_38_T  DeviceType_desktop  \\\n",
              "0          0.0      0.0      1.0      0.0      1.0                 1.0   \n",
              "1          0.0      0.0      1.0      1.0      0.0                 1.0   \n",
              "2          0.0      0.0      0.0      0.0      0.0                 0.0   \n",
              "3          0.0      0.0      0.0      0.0      0.0                 0.0   \n",
              "4          0.0      0.0      0.0      0.0      0.0                 0.0   \n",
              "...        ...      ...      ...      ...      ...                 ...   \n",
              "20658      0.0      0.0      1.0      0.0      1.0                 1.0   \n",
              "20659      0.0      0.0      0.0      0.0      0.0                 0.0   \n",
              "20660      0.0      0.0      0.0      0.0      0.0                 0.0   \n",
              "20661      0.0      0.0      0.0      0.0      0.0                 0.0   \n",
              "20662      0.0      0.0      1.0      0.0      1.0                 0.0   \n",
              "\n",
              "       DeviceType_mobile  \n",
              "0                    0.0  \n",
              "1                    0.0  \n",
              "2                    0.0  \n",
              "3                    0.0  \n",
              "4                    0.0  \n",
              "...                  ...  \n",
              "20658                0.0  \n",
              "20659                0.0  \n",
              "20660                0.0  \n",
              "20661                0.0  \n",
              "20662                1.0  \n",
              "\n",
              "[20663 rows x 450 columns]"
            ],
            "text/html": "<div>\n<style scoped>\n    .dataframe tbody tr th:only-of-type {\n        vertical-align: middle;\n    }\n\n    .dataframe tbody tr th {\n        vertical-align: top;\n    }\n\n    .dataframe thead th {\n        text-align: right;\n    }\n</style>\n<table border=\"1\" class=\"dataframe\">\n  <thead>\n    <tr style=\"text-align: right;\">\n      <th></th>\n      <th>TransactionDT</th>\n      <th>TransactionAmt</th>\n      <th>card1</th>\n      <th>card2</th>\n      <th>card3</th>\n      <th>card5</th>\n      <th>addr1</th>\n      <th>addr2</th>\n      <th>dist1</th>\n      <th>C1</th>\n      <th>...</th>\n      <th>id_35_F</th>\n      <th>id_35_T</th>\n      <th>id_36_F</th>\n      <th>id_36_T</th>\n      <th>id_37_F</th>\n      <th>id_37_T</th>\n      <th>id_38_F</th>\n      <th>id_38_T</th>\n      <th>DeviceType_desktop</th>\n      <th>DeviceType_mobile</th>\n    </tr>\n  </thead>\n  <tbody>\n    <tr>\n      <th>0</th>\n      <td>0.559528</td>\n      <td>0.076990</td>\n      <td>0.679594</td>\n      <td>0.144</td>\n      <td>0.381679</td>\n      <td>0.919708</td>\n      <td>0.190141</td>\n      <td>0.895349</td>\n      <td>0.000202</td>\n      <td>0.000214</td>\n      <td>...</td>\n      <td>0.0</td>\n      <td>1.0</td>\n      <td>1.0</td>\n      <td>0.0</td>\n      <td>0.0</td>\n      <td>1.0</td>\n      <td>0.0</td>\n      <td>1.0</td>\n      <td>1.0</td>\n      <td>0.0</td>\n    </tr>\n    <tr>\n      <th>1</th>\n      <td>0.433645</td>\n      <td>0.038467</td>\n      <td>0.834495</td>\n      <td>0.780</td>\n      <td>0.381679</td>\n      <td>0.919708</td>\n      <td>0.443662</td>\n      <td>0.895349</td>\n      <td>0.000202</td>\n      <td>0.002137</td>\n      <td>...</td>\n      <td>0.0</td>\n      <td>1.0</td>\n      <td>1.0</td>\n      <td>0.0</td>\n      <td>0.0</td>\n      <td>1.0</td>\n      <td>1.0</td>\n      <td>0.0</td>\n      <td>1.0</td>\n      <td>0.0</td>\n    </tr>\n    <tr>\n      <th>2</th>\n      <td>0.438636</td>\n      <td>0.037696</td>\n      <td>0.585086</td>\n      <td>0.222</td>\n      <td>0.381679</td>\n      <td>0.905109</td>\n      <td>0.509390</td>\n      <td>0.895349</td>\n      <td>0.000202</td>\n      <td>0.000214</td>\n      <td>...</td>\n      <td>0.0</td>\n      <td>0.0</td>\n      <td>0.0</td>\n      <td>0.0</td>\n      <td>0.0</td>\n      <td>0.0</td>\n      <td>0.0</td>\n      <td>0.0</td>\n      <td>0.0</td>\n      <td>0.0</td>\n    </tr>\n    <tr>\n      <th>3</th>\n      <td>0.450036</td>\n      <td>0.015064</td>\n      <td>0.083040</td>\n      <td>0.442</td>\n      <td>0.381679</td>\n      <td>0.919708</td>\n      <td>0.220657</td>\n      <td>0.895349</td>\n      <td>0.002832</td>\n      <td>0.000427</td>\n      <td>...</td>\n      <td>0.0</td>\n      <td>0.0</td>\n      <td>0.0</td>\n      <td>0.0</td>\n      <td>0.0</td>\n      <td>0.0</td>\n      <td>0.0</td>\n      <td>0.0</td>\n      <td>0.0</td>\n      <td>0.0</td>\n    </tr>\n    <tr>\n      <th>4</th>\n      <td>0.199026</td>\n      <td>0.132270</td>\n      <td>0.553276</td>\n      <td>0.966</td>\n      <td>0.381679</td>\n      <td>0.919708</td>\n      <td>0.776995</td>\n      <td>0.895349</td>\n      <td>0.000202</td>\n      <td>0.000427</td>\n      <td>...</td>\n      <td>0.0</td>\n      <td>0.0</td>\n      <td>0.0</td>\n      <td>0.0</td>\n      <td>0.0</td>\n      <td>0.0</td>\n      <td>0.0</td>\n      <td>0.0</td>\n      <td>0.0</td>\n      <td>0.0</td>\n    </tr>\n    <tr>\n      <th>...</th>\n      <td>...</td>\n      <td>...</td>\n      <td>...</td>\n      <td>...</td>\n      <td>...</td>\n      <td>...</td>\n      <td>...</td>\n      <td>...</td>\n      <td>...</td>\n      <td>...</td>\n      <td>...</td>\n      <td>...</td>\n      <td>...</td>\n      <td>...</td>\n      <td>...</td>\n      <td>...</td>\n      <td>...</td>\n      <td>...</td>\n      <td>...</td>\n      <td>...</td>\n      <td>...</td>\n    </tr>\n    <tr>\n      <th>20658</th>\n      <td>0.659998</td>\n      <td>0.028836</td>\n      <td>0.489195</td>\n      <td>0.442</td>\n      <td>0.381679</td>\n      <td>0.919708</td>\n      <td>0.220657</td>\n      <td>0.895349</td>\n      <td>0.000202</td>\n      <td>0.000427</td>\n      <td>...</td>\n      <td>0.0</td>\n      <td>1.0</td>\n      <td>1.0</td>\n      <td>0.0</td>\n      <td>0.0</td>\n      <td>1.0</td>\n      <td>0.0</td>\n      <td>1.0</td>\n      <td>1.0</td>\n      <td>0.0</td>\n    </tr>\n    <tr>\n      <th>20659</th>\n      <td>0.344394</td>\n      <td>0.011308</td>\n      <td>0.785628</td>\n      <td>0.896</td>\n      <td>0.381679</td>\n      <td>0.919708</td>\n      <td>0.859155</td>\n      <td>0.895349</td>\n      <td>0.000202</td>\n      <td>0.000427</td>\n      <td>...</td>\n      <td>0.0</td>\n      <td>0.0</td>\n      <td>0.0</td>\n      <td>0.0</td>\n      <td>0.0</td>\n      <td>0.0</td>\n      <td>0.0</td>\n      <td>0.0</td>\n      <td>0.0</td>\n      <td>0.0</td>\n    </tr>\n    <tr>\n      <th>20660</th>\n      <td>0.281962</td>\n      <td>0.516151</td>\n      <td>0.489195</td>\n      <td>0.442</td>\n      <td>0.381679</td>\n      <td>0.919708</td>\n      <td>0.330986</td>\n      <td>0.895349</td>\n      <td>0.000202</td>\n      <td>0.000641</td>\n      <td>...</td>\n      <td>0.0</td>\n      <td>0.0</td>\n      <td>0.0</td>\n      <td>0.0</td>\n      <td>0.0</td>\n      <td>0.0</td>\n      <td>0.0</td>\n      <td>0.0</td>\n      <td>0.0</td>\n      <td>0.0</td>\n    </tr>\n    <tr>\n      <th>20661</th>\n      <td>0.491993</td>\n      <td>0.191403</td>\n      <td>0.161644</td>\n      <td>0.022</td>\n      <td>0.381679</td>\n      <td>0.868613</td>\n      <td>0.037559</td>\n      <td>0.895349</td>\n      <td>0.000202</td>\n      <td>0.000214</td>\n      <td>...</td>\n      <td>0.0</td>\n      <td>0.0</td>\n      <td>0.0</td>\n      <td>0.0</td>\n      <td>0.0</td>\n      <td>0.0</td>\n      <td>0.0</td>\n      <td>0.0</td>\n      <td>0.0</td>\n      <td>0.0</td>\n    </tr>\n    <tr>\n      <th>20662</th>\n      <td>0.104031</td>\n      <td>0.014582</td>\n      <td>0.496571</td>\n      <td>0.392</td>\n      <td>0.648855</td>\n      <td>0.277372</td>\n      <td>0.220657</td>\n      <td>0.895349</td>\n      <td>0.000202</td>\n      <td>0.001496</td>\n      <td>...</td>\n      <td>1.0</td>\n      <td>0.0</td>\n      <td>1.0</td>\n      <td>0.0</td>\n      <td>0.0</td>\n      <td>1.0</td>\n      <td>0.0</td>\n      <td>1.0</td>\n      <td>0.0</td>\n      <td>1.0</td>\n    </tr>\n  </tbody>\n</table>\n<p>20663 rows × 450 columns</p>\n</div>"
          },
          "metadata": {},
          "execution_count": 47
        }
      ],
      "source": [
        "import pandas as pd\n",
        "from sklearn import preprocessing\n",
        "\n",
        "def normalize_df(df) : \n",
        "    cols = df.columns\n",
        "    min_max_scaler = preprocessing.MinMaxScaler()\n",
        "    df_nor = min_max_scaler.fit_transform(df)\n",
        "    df = pd.DataFrame(df_nor, columns=cols)\n",
        "    return df\n",
        "\n",
        "df_fraud = normalize_df(df_fraud)\n",
        "df_notfraud = normalize_df(df_notfraud)\n",
        "df_test = normalize_df(df_test)\n",
        "df_fraud"
      ]
    },
    {
      "cell_type": "code",
      "execution_count": 48,
      "metadata": {},
      "outputs": [
        {
          "output_type": "stream",
          "name": "stdout",
          "text": [
            "<class 'pandas.core.frame.DataFrame'>\nRangeIndex: 569877 entries, 0 to 569876\nColumns: 450 entries, TransactionDT to DeviceType_mobile\ndtypes: float32(450)\nmemory usage: 978.3 MB\n"
          ]
        }
      ],
      "source": [
        "df_notfraud.info() "
      ]
    },
    {
      "cell_type": "code",
      "execution_count": 49,
      "metadata": {},
      "outputs": [
        {
          "output_type": "stream",
          "name": "stdout",
          "text": [
            "0    569876\n1     20664\nName: isFraud, dtype: int64\n"
          ]
        },
        {
          "output_type": "execute_result",
          "data": {
            "text/plain": [
              "        TransactionDT  TransactionAmt     card1  card2     card3     card5  \\\n",
              "156126       0.916525        0.002898  0.855632  0.890  0.648855  0.277372   \n",
              "459483       0.312283        0.000193  0.855632  0.890  0.648855  0.277372   \n",
              "333406       0.164923        0.003372  0.665287  0.336  0.381679  0.481752   \n",
              "218757       0.753759        0.002119  0.671724  0.230  0.381679  0.919708   \n",
              "346487       0.140553        0.003123  0.899770  0.140  0.381679  0.919708   \n",
              "...               ...             ...       ...    ...       ...       ...   \n",
              "12745        0.636807        0.010482  0.106782  0.910  0.381679  0.919708   \n",
              "137302       0.530472        0.005018  0.841839  0.634  0.381679  0.919708   \n",
              "517759       0.251463        0.001213  0.234713  0.442  0.381679  0.919708   \n",
              "446560       0.370667        0.003249  0.231724  0.338  0.381679  0.905109   \n",
              "35684        0.594857        0.001600  0.762759  0.154  0.648855  0.270073   \n",
              "\n",
              "           addr1     addr2    dist1        C1  ...  id_35_T  id_36_F  id_36_T  \\\n",
              "156126  0.452273  0.831461  0.00000  0.000213  ...      0.0      1.0      0.0   \n",
              "459483  0.452273  0.831461  0.00000  0.000640  ...      0.0      0.0      0.0   \n",
              "333406  0.538636  0.831461  0.00000  0.000427  ...      0.0      0.0      0.0   \n",
              "218757  0.097727  0.831461  0.00068  0.000427  ...      0.0      0.0      0.0   \n",
              "346487  0.790909  0.831461  0.00000  0.000213  ...      1.0      1.0      0.0   \n",
              "...          ...       ...      ...       ...  ...      ...      ...      ...   \n",
              "12745   0.452273  0.831461  0.00068  0.000213  ...      0.0      0.0      0.0   \n",
              "137302  0.522727  0.831461  0.00000  0.001281  ...      0.0      0.0      0.0   \n",
              "517759  0.236364  0.831461  0.00000  0.000640  ...      0.0      0.0      0.0   \n",
              "446560  0.372727  0.831461  0.00000  0.000854  ...      0.0      0.0      0.0   \n",
              "35684   0.452273  0.831461  0.00000  0.001281  ...      0.0      1.0      0.0   \n",
              "\n",
              "        id_37_F  id_37_T  id_38_F  id_38_T  DeviceType_desktop  \\\n",
              "156126      1.0      0.0      1.0      0.0                 1.0   \n",
              "459483      0.0      0.0      0.0      0.0                 0.0   \n",
              "333406      0.0      0.0      0.0      0.0                 0.0   \n",
              "218757      0.0      0.0      0.0      0.0                 0.0   \n",
              "346487      0.0      1.0      0.0      1.0                 1.0   \n",
              "...         ...      ...      ...      ...                 ...   \n",
              "12745       0.0      0.0      0.0      0.0                 0.0   \n",
              "137302      0.0      0.0      0.0      0.0                 0.0   \n",
              "517759      0.0      0.0      0.0      0.0                 0.0   \n",
              "446560      0.0      0.0      0.0      0.0                 0.0   \n",
              "35684       0.0      1.0      1.0      0.0                 0.0   \n",
              "\n",
              "        DeviceType_mobile  isFraud  \n",
              "156126                0.0        0  \n",
              "459483                0.0        0  \n",
              "333406                0.0        0  \n",
              "218757                0.0        0  \n",
              "346487                0.0        0  \n",
              "...                   ...      ...  \n",
              "12745                 0.0        0  \n",
              "137302                0.0        0  \n",
              "517759                0.0        0  \n",
              "446560                0.0        0  \n",
              "35684                 1.0        0  \n",
              "\n",
              "[590540 rows x 451 columns]"
            ],
            "text/html": "<div>\n<style scoped>\n    .dataframe tbody tr th:only-of-type {\n        vertical-align: middle;\n    }\n\n    .dataframe tbody tr th {\n        vertical-align: top;\n    }\n\n    .dataframe thead th {\n        text-align: right;\n    }\n</style>\n<table border=\"1\" class=\"dataframe\">\n  <thead>\n    <tr style=\"text-align: right;\">\n      <th></th>\n      <th>TransactionDT</th>\n      <th>TransactionAmt</th>\n      <th>card1</th>\n      <th>card2</th>\n      <th>card3</th>\n      <th>card5</th>\n      <th>addr1</th>\n      <th>addr2</th>\n      <th>dist1</th>\n      <th>C1</th>\n      <th>...</th>\n      <th>id_35_T</th>\n      <th>id_36_F</th>\n      <th>id_36_T</th>\n      <th>id_37_F</th>\n      <th>id_37_T</th>\n      <th>id_38_F</th>\n      <th>id_38_T</th>\n      <th>DeviceType_desktop</th>\n      <th>DeviceType_mobile</th>\n      <th>isFraud</th>\n    </tr>\n  </thead>\n  <tbody>\n    <tr>\n      <th>156126</th>\n      <td>0.916525</td>\n      <td>0.002898</td>\n      <td>0.855632</td>\n      <td>0.890</td>\n      <td>0.648855</td>\n      <td>0.277372</td>\n      <td>0.452273</td>\n      <td>0.831461</td>\n      <td>0.00000</td>\n      <td>0.000213</td>\n      <td>...</td>\n      <td>0.0</td>\n      <td>1.0</td>\n      <td>0.0</td>\n      <td>1.0</td>\n      <td>0.0</td>\n      <td>1.0</td>\n      <td>0.0</td>\n      <td>1.0</td>\n      <td>0.0</td>\n      <td>0</td>\n    </tr>\n    <tr>\n      <th>459483</th>\n      <td>0.312283</td>\n      <td>0.000193</td>\n      <td>0.855632</td>\n      <td>0.890</td>\n      <td>0.648855</td>\n      <td>0.277372</td>\n      <td>0.452273</td>\n      <td>0.831461</td>\n      <td>0.00000</td>\n      <td>0.000640</td>\n      <td>...</td>\n      <td>0.0</td>\n      <td>0.0</td>\n      <td>0.0</td>\n      <td>0.0</td>\n      <td>0.0</td>\n      <td>0.0</td>\n      <td>0.0</td>\n      <td>0.0</td>\n      <td>0.0</td>\n      <td>0</td>\n    </tr>\n    <tr>\n      <th>333406</th>\n      <td>0.164923</td>\n      <td>0.003372</td>\n      <td>0.665287</td>\n      <td>0.336</td>\n      <td>0.381679</td>\n      <td>0.481752</td>\n      <td>0.538636</td>\n      <td>0.831461</td>\n      <td>0.00000</td>\n      <td>0.000427</td>\n      <td>...</td>\n      <td>0.0</td>\n      <td>0.0</td>\n      <td>0.0</td>\n      <td>0.0</td>\n      <td>0.0</td>\n      <td>0.0</td>\n      <td>0.0</td>\n      <td>0.0</td>\n      <td>0.0</td>\n      <td>0</td>\n    </tr>\n    <tr>\n      <th>218757</th>\n      <td>0.753759</td>\n      <td>0.002119</td>\n      <td>0.671724</td>\n      <td>0.230</td>\n      <td>0.381679</td>\n      <td>0.919708</td>\n      <td>0.097727</td>\n      <td>0.831461</td>\n      <td>0.00068</td>\n      <td>0.000427</td>\n      <td>...</td>\n      <td>0.0</td>\n      <td>0.0</td>\n      <td>0.0</td>\n      <td>0.0</td>\n      <td>0.0</td>\n      <td>0.0</td>\n      <td>0.0</td>\n      <td>0.0</td>\n      <td>0.0</td>\n      <td>0</td>\n    </tr>\n    <tr>\n      <th>346487</th>\n      <td>0.140553</td>\n      <td>0.003123</td>\n      <td>0.899770</td>\n      <td>0.140</td>\n      <td>0.381679</td>\n      <td>0.919708</td>\n      <td>0.790909</td>\n      <td>0.831461</td>\n      <td>0.00000</td>\n      <td>0.000213</td>\n      <td>...</td>\n      <td>1.0</td>\n      <td>1.0</td>\n      <td>0.0</td>\n      <td>0.0</td>\n      <td>1.0</td>\n      <td>0.0</td>\n      <td>1.0</td>\n      <td>1.0</td>\n      <td>0.0</td>\n      <td>0</td>\n    </tr>\n    <tr>\n      <th>...</th>\n      <td>...</td>\n      <td>...</td>\n      <td>...</td>\n      <td>...</td>\n      <td>...</td>\n      <td>...</td>\n      <td>...</td>\n      <td>...</td>\n      <td>...</td>\n      <td>...</td>\n      <td>...</td>\n      <td>...</td>\n      <td>...</td>\n      <td>...</td>\n      <td>...</td>\n      <td>...</td>\n      <td>...</td>\n      <td>...</td>\n      <td>...</td>\n      <td>...</td>\n      <td>...</td>\n    </tr>\n    <tr>\n      <th>12745</th>\n      <td>0.636807</td>\n      <td>0.010482</td>\n      <td>0.106782</td>\n      <td>0.910</td>\n      <td>0.381679</td>\n      <td>0.919708</td>\n      <td>0.452273</td>\n      <td>0.831461</td>\n      <td>0.00068</td>\n      <td>0.000213</td>\n      <td>...</td>\n      <td>0.0</td>\n      <td>0.0</td>\n      <td>0.0</td>\n      <td>0.0</td>\n      <td>0.0</td>\n      <td>0.0</td>\n      <td>0.0</td>\n      <td>0.0</td>\n      <td>0.0</td>\n      <td>0</td>\n    </tr>\n    <tr>\n      <th>137302</th>\n      <td>0.530472</td>\n      <td>0.005018</td>\n      <td>0.841839</td>\n      <td>0.634</td>\n      <td>0.381679</td>\n      <td>0.919708</td>\n      <td>0.522727</td>\n      <td>0.831461</td>\n      <td>0.00000</td>\n      <td>0.001281</td>\n      <td>...</td>\n      <td>0.0</td>\n      <td>0.0</td>\n      <td>0.0</td>\n      <td>0.0</td>\n      <td>0.0</td>\n      <td>0.0</td>\n      <td>0.0</td>\n      <td>0.0</td>\n      <td>0.0</td>\n      <td>0</td>\n    </tr>\n    <tr>\n      <th>517759</th>\n      <td>0.251463</td>\n      <td>0.001213</td>\n      <td>0.234713</td>\n      <td>0.442</td>\n      <td>0.381679</td>\n      <td>0.919708</td>\n      <td>0.236364</td>\n      <td>0.831461</td>\n      <td>0.00000</td>\n      <td>0.000640</td>\n      <td>...</td>\n      <td>0.0</td>\n      <td>0.0</td>\n      <td>0.0</td>\n      <td>0.0</td>\n      <td>0.0</td>\n      <td>0.0</td>\n      <td>0.0</td>\n      <td>0.0</td>\n      <td>0.0</td>\n      <td>0</td>\n    </tr>\n    <tr>\n      <th>446560</th>\n      <td>0.370667</td>\n      <td>0.003249</td>\n      <td>0.231724</td>\n      <td>0.338</td>\n      <td>0.381679</td>\n      <td>0.905109</td>\n      <td>0.372727</td>\n      <td>0.831461</td>\n      <td>0.00000</td>\n      <td>0.000854</td>\n      <td>...</td>\n      <td>0.0</td>\n      <td>0.0</td>\n      <td>0.0</td>\n      <td>0.0</td>\n      <td>0.0</td>\n      <td>0.0</td>\n      <td>0.0</td>\n      <td>0.0</td>\n      <td>0.0</td>\n      <td>0</td>\n    </tr>\n    <tr>\n      <th>35684</th>\n      <td>0.594857</td>\n      <td>0.001600</td>\n      <td>0.762759</td>\n      <td>0.154</td>\n      <td>0.648855</td>\n      <td>0.270073</td>\n      <td>0.452273</td>\n      <td>0.831461</td>\n      <td>0.00000</td>\n      <td>0.001281</td>\n      <td>...</td>\n      <td>0.0</td>\n      <td>1.0</td>\n      <td>0.0</td>\n      <td>0.0</td>\n      <td>1.0</td>\n      <td>1.0</td>\n      <td>0.0</td>\n      <td>0.0</td>\n      <td>1.0</td>\n      <td>0</td>\n    </tr>\n  </tbody>\n</table>\n<p>590540 rows × 451 columns</p>\n</div>"
          },
          "metadata": {},
          "execution_count": 49
        }
      ],
      "source": [
        " ################### for the anomaly detection approach we'll need to fit the autoencoder with only the df_notfraud data\n",
        " ################### but for other techniques df (fraud and notfraud merged) may be needed so we'll create the df again in here\n",
        "\n",
        "FruadList = [1 for i in range(len(df_fraud) + len(df_notfraud))]\n",
        "for i in range(len(df_fraud) + 1, len(df_fraud) + len(df_notfraud)) : \n",
        "    FruadList[i] = 0\n",
        "\n",
        "df = pd.concat([df_fraud, df_notfraud])\n",
        "df['isFraud'] = FruadList\n",
        "\n",
        "from sklearn.utils import shuffle\n",
        "df = shuffle(df)\n",
        "\n",
        "#df = to_float16(df)\n",
        "\n",
        "\n",
        "\n",
        "print(df['isFraud'].value_counts())\n",
        "df\n"
      ]
    },
    {
      "cell_type": "code",
      "execution_count": 50,
      "metadata": {},
      "outputs": [],
      "source": [
        "\n",
        "\n",
        "\n",
        "\n",
        "\n",
        "\n",
        "\n",
        "\n",
        "\n",
        "\n",
        "\n",
        "\n",
        "                              ########## end of data cleaning, the df is now ready to use\n",
        "\n",
        "\n",
        "\n",
        "\n",
        "\n",
        "\n",
        "\n",
        "\n",
        "\n",
        "\n",
        "\n"
      ]
    },
    {
      "cell_type": "code",
      "metadata": {
        "id": "Glf-DmCD_Pk0"
      },
      "source": [
        "y_train = df['isFraud']\r\n",
        "x_train = df.drop(['isFraud'],axis=1)\r\n"
      ],
      "execution_count": 51,
      "outputs": []
    },
    {
      "cell_type": "markdown",
      "metadata": {
        "id": "W_Far8eGbIzz"
      },
      "source": [
        "There were no Null values.\r\n",
        "\r\n",
        "\r\n",
        "Next, we will plot the number of frauds and notfrauds."
      ]
    },
    {
      "cell_type": "code",
      "metadata": {
        "colab": {
          "base_uri": "https://localhost:8080/",
          "height": 297
        },
        "id": "XcTnhF9FbJU6",
        "outputId": "d03e76fe-9870-4611-9087-2620d3afa1ed"
      },
      "source": [
        "import seaborn as sns\r\n",
        "\r\n",
        "sns.countplot(x = 'isFraud', data = df)"
      ],
      "execution_count": 52,
      "outputs": [
        {
          "output_type": "execute_result",
          "data": {
            "text/plain": [
              "<AxesSubplot:xlabel='isFraud', ylabel='count'>"
            ]
          },
          "metadata": {},
          "execution_count": 52
        },
        {
          "output_type": "display_data",
          "data": {
            "text/plain": "<Figure size 432x288 with 1 Axes>",
            "image/svg+xml": "<?xml version=\"1.0\" encoding=\"utf-8\" standalone=\"no\"?>\r\n<!DOCTYPE svg PUBLIC \"-//W3C//DTD SVG 1.1//EN\"\r\n  \"http://www.w3.org/Graphics/SVG/1.1/DTD/svg11.dtd\">\r\n<!-- Created with matplotlib (https://matplotlib.org/) -->\r\n<svg height=\"262.19625pt\" version=\"1.1\" viewBox=\"0 0 408.053125 262.19625\" width=\"408.053125pt\" xmlns=\"http://www.w3.org/2000/svg\" xmlns:xlink=\"http://www.w3.org/1999/xlink\">\r\n <metadata>\r\n  <rdf:RDF xmlns:cc=\"http://creativecommons.org/ns#\" xmlns:dc=\"http://purl.org/dc/elements/1.1/\" xmlns:rdf=\"http://www.w3.org/1999/02/22-rdf-syntax-ns#\">\r\n   <cc:Work>\r\n    <dc:type rdf:resource=\"http://purl.org/dc/dcmitype/StillImage\"/>\r\n    <dc:date>2021-01-17T17:35:26.700583</dc:date>\r\n    <dc:format>image/svg+xml</dc:format>\r\n    <dc:creator>\r\n     <cc:Agent>\r\n      <dc:title>Matplotlib v3.3.3, https://matplotlib.org/</dc:title>\r\n     </cc:Agent>\r\n    </dc:creator>\r\n   </cc:Work>\r\n  </rdf:RDF>\r\n </metadata>\r\n <defs>\r\n  <style type=\"text/css\">*{stroke-linecap:butt;stroke-linejoin:round;}</style>\r\n </defs>\r\n <g id=\"figure_1\">\r\n  <g id=\"patch_1\">\r\n   <path d=\"M 0 262.19625 \r\nL 408.053125 262.19625 \r\nL 408.053125 0 \r\nL 0 0 \r\nz\r\n\" style=\"fill:none;\"/>\r\n  </g>\r\n  <g id=\"axes_1\">\r\n   <g id=\"patch_2\">\r\n    <path d=\"M 66.053125 224.64 \r\nL 400.853125 224.64 \r\nL 400.853125 7.2 \r\nL 66.053125 7.2 \r\nz\r\n\" style=\"fill:#ffffff;\"/>\r\n   </g>\r\n   <g id=\"patch_3\">\r\n    <path clip-path=\"url(#p55e959a982)\" d=\"M 82.793125 224.64 \r\nL 216.713125 224.64 \r\nL 216.713125 17.554286 \r\nL 82.793125 17.554286 \r\nz\r\n\" style=\"fill:#3274a1;\"/>\r\n   </g>\r\n   <g id=\"patch_4\">\r\n    <path clip-path=\"url(#p55e959a982)\" d=\"M 250.193125 224.64 \r\nL 384.113125 224.64 \r\nL 384.113125 217.130964 \r\nL 250.193125 217.130964 \r\nz\r\n\" style=\"fill:#e1812c;\"/>\r\n   </g>\r\n   <g id=\"matplotlib.axis_1\">\r\n    <g id=\"xtick_1\">\r\n     <g id=\"line2d_1\">\r\n      <defs>\r\n       <path d=\"M 0 0 \r\nL 0 3.5 \r\n\" id=\"m3653776fab\" style=\"stroke:#000000;stroke-width:0.8;\"/>\r\n      </defs>\r\n      <g>\r\n       <use style=\"stroke:#000000;stroke-width:0.8;\" x=\"149.753125\" xlink:href=\"#m3653776fab\" y=\"224.64\"/>\r\n      </g>\r\n     </g>\r\n     <g id=\"text_1\">\r\n      <!-- 0 -->\r\n      <g transform=\"translate(146.571875 239.238437)scale(0.1 -0.1)\">\r\n       <defs>\r\n        <path d=\"M 31.78125 66.40625 \r\nQ 24.171875 66.40625 20.328125 58.90625 \r\nQ 16.5 51.421875 16.5 36.375 \r\nQ 16.5 21.390625 20.328125 13.890625 \r\nQ 24.171875 6.390625 31.78125 6.390625 \r\nQ 39.453125 6.390625 43.28125 13.890625 \r\nQ 47.125 21.390625 47.125 36.375 \r\nQ 47.125 51.421875 43.28125 58.90625 \r\nQ 39.453125 66.40625 31.78125 66.40625 \r\nz\r\nM 31.78125 74.21875 \r\nQ 44.046875 74.21875 50.515625 64.515625 \r\nQ 56.984375 54.828125 56.984375 36.375 \r\nQ 56.984375 17.96875 50.515625 8.265625 \r\nQ 44.046875 -1.421875 31.78125 -1.421875 \r\nQ 19.53125 -1.421875 13.0625 8.265625 \r\nQ 6.59375 17.96875 6.59375 36.375 \r\nQ 6.59375 54.828125 13.0625 64.515625 \r\nQ 19.53125 74.21875 31.78125 74.21875 \r\nz\r\n\" id=\"DejaVuSans-48\"/>\r\n       </defs>\r\n       <use xlink:href=\"#DejaVuSans-48\"/>\r\n      </g>\r\n     </g>\r\n    </g>\r\n    <g id=\"xtick_2\">\r\n     <g id=\"line2d_2\">\r\n      <g>\r\n       <use style=\"stroke:#000000;stroke-width:0.8;\" x=\"317.153125\" xlink:href=\"#m3653776fab\" y=\"224.64\"/>\r\n      </g>\r\n     </g>\r\n     <g id=\"text_2\">\r\n      <!-- 1 -->\r\n      <g transform=\"translate(313.971875 239.238437)scale(0.1 -0.1)\">\r\n       <defs>\r\n        <path d=\"M 12.40625 8.296875 \r\nL 28.515625 8.296875 \r\nL 28.515625 63.921875 \r\nL 10.984375 60.40625 \r\nL 10.984375 69.390625 \r\nL 28.421875 72.90625 \r\nL 38.28125 72.90625 \r\nL 38.28125 8.296875 \r\nL 54.390625 8.296875 \r\nL 54.390625 0 \r\nL 12.40625 0 \r\nz\r\n\" id=\"DejaVuSans-49\"/>\r\n       </defs>\r\n       <use xlink:href=\"#DejaVuSans-49\"/>\r\n      </g>\r\n     </g>\r\n    </g>\r\n    <g id=\"text_3\">\r\n     <!-- isFraud -->\r\n     <g transform=\"translate(215.483594 252.916562)scale(0.1 -0.1)\">\r\n      <defs>\r\n       <path d=\"M 9.421875 54.6875 \r\nL 18.40625 54.6875 \r\nL 18.40625 0 \r\nL 9.421875 0 \r\nz\r\nM 9.421875 75.984375 \r\nL 18.40625 75.984375 \r\nL 18.40625 64.59375 \r\nL 9.421875 64.59375 \r\nz\r\n\" id=\"DejaVuSans-105\"/>\r\n       <path d=\"M 44.28125 53.078125 \r\nL 44.28125 44.578125 \r\nQ 40.484375 46.53125 36.375 47.5 \r\nQ 32.28125 48.484375 27.875 48.484375 \r\nQ 21.1875 48.484375 17.84375 46.4375 \r\nQ 14.5 44.390625 14.5 40.28125 \r\nQ 14.5 37.15625 16.890625 35.375 \r\nQ 19.28125 33.59375 26.515625 31.984375 \r\nL 29.59375 31.296875 \r\nQ 39.15625 29.25 43.1875 25.515625 \r\nQ 47.21875 21.78125 47.21875 15.09375 \r\nQ 47.21875 7.46875 41.1875 3.015625 \r\nQ 35.15625 -1.421875 24.609375 -1.421875 \r\nQ 20.21875 -1.421875 15.453125 -0.5625 \r\nQ 10.6875 0.296875 5.421875 2 \r\nL 5.421875 11.28125 \r\nQ 10.40625 8.6875 15.234375 7.390625 \r\nQ 20.0625 6.109375 24.8125 6.109375 \r\nQ 31.15625 6.109375 34.5625 8.28125 \r\nQ 37.984375 10.453125 37.984375 14.40625 \r\nQ 37.984375 18.0625 35.515625 20.015625 \r\nQ 33.0625 21.96875 24.703125 23.78125 \r\nL 21.578125 24.515625 \r\nQ 13.234375 26.265625 9.515625 29.90625 \r\nQ 5.8125 33.546875 5.8125 39.890625 \r\nQ 5.8125 47.609375 11.28125 51.796875 \r\nQ 16.75 56 26.8125 56 \r\nQ 31.78125 56 36.171875 55.265625 \r\nQ 40.578125 54.546875 44.28125 53.078125 \r\nz\r\n\" id=\"DejaVuSans-115\"/>\r\n       <path d=\"M 9.8125 72.90625 \r\nL 51.703125 72.90625 \r\nL 51.703125 64.59375 \r\nL 19.671875 64.59375 \r\nL 19.671875 43.109375 \r\nL 48.578125 43.109375 \r\nL 48.578125 34.8125 \r\nL 19.671875 34.8125 \r\nL 19.671875 0 \r\nL 9.8125 0 \r\nz\r\n\" id=\"DejaVuSans-70\"/>\r\n       <path d=\"M 41.109375 46.296875 \r\nQ 39.59375 47.171875 37.8125 47.578125 \r\nQ 36.03125 48 33.890625 48 \r\nQ 26.265625 48 22.1875 43.046875 \r\nQ 18.109375 38.09375 18.109375 28.8125 \r\nL 18.109375 0 \r\nL 9.078125 0 \r\nL 9.078125 54.6875 \r\nL 18.109375 54.6875 \r\nL 18.109375 46.1875 \r\nQ 20.953125 51.171875 25.484375 53.578125 \r\nQ 30.03125 56 36.53125 56 \r\nQ 37.453125 56 38.578125 55.875 \r\nQ 39.703125 55.765625 41.0625 55.515625 \r\nz\r\n\" id=\"DejaVuSans-114\"/>\r\n       <path d=\"M 34.28125 27.484375 \r\nQ 23.390625 27.484375 19.1875 25 \r\nQ 14.984375 22.515625 14.984375 16.5 \r\nQ 14.984375 11.71875 18.140625 8.90625 \r\nQ 21.296875 6.109375 26.703125 6.109375 \r\nQ 34.1875 6.109375 38.703125 11.40625 \r\nQ 43.21875 16.703125 43.21875 25.484375 \r\nL 43.21875 27.484375 \r\nz\r\nM 52.203125 31.203125 \r\nL 52.203125 0 \r\nL 43.21875 0 \r\nL 43.21875 8.296875 \r\nQ 40.140625 3.328125 35.546875 0.953125 \r\nQ 30.953125 -1.421875 24.3125 -1.421875 \r\nQ 15.921875 -1.421875 10.953125 3.296875 \r\nQ 6 8.015625 6 15.921875 \r\nQ 6 25.140625 12.171875 29.828125 \r\nQ 18.359375 34.515625 30.609375 34.515625 \r\nL 43.21875 34.515625 \r\nL 43.21875 35.40625 \r\nQ 43.21875 41.609375 39.140625 45 \r\nQ 35.0625 48.390625 27.6875 48.390625 \r\nQ 23 48.390625 18.546875 47.265625 \r\nQ 14.109375 46.140625 10.015625 43.890625 \r\nL 10.015625 52.203125 \r\nQ 14.9375 54.109375 19.578125 55.046875 \r\nQ 24.21875 56 28.609375 56 \r\nQ 40.484375 56 46.34375 49.84375 \r\nQ 52.203125 43.703125 52.203125 31.203125 \r\nz\r\n\" id=\"DejaVuSans-97\"/>\r\n       <path d=\"M 8.5 21.578125 \r\nL 8.5 54.6875 \r\nL 17.484375 54.6875 \r\nL 17.484375 21.921875 \r\nQ 17.484375 14.15625 20.5 10.265625 \r\nQ 23.53125 6.390625 29.59375 6.390625 \r\nQ 36.859375 6.390625 41.078125 11.03125 \r\nQ 45.3125 15.671875 45.3125 23.6875 \r\nL 45.3125 54.6875 \r\nL 54.296875 54.6875 \r\nL 54.296875 0 \r\nL 45.3125 0 \r\nL 45.3125 8.40625 \r\nQ 42.046875 3.421875 37.71875 1 \r\nQ 33.40625 -1.421875 27.6875 -1.421875 \r\nQ 18.265625 -1.421875 13.375 4.4375 \r\nQ 8.5 10.296875 8.5 21.578125 \r\nz\r\nM 31.109375 56 \r\nz\r\n\" id=\"DejaVuSans-117\"/>\r\n       <path d=\"M 45.40625 46.390625 \r\nL 45.40625 75.984375 \r\nL 54.390625 75.984375 \r\nL 54.390625 0 \r\nL 45.40625 0 \r\nL 45.40625 8.203125 \r\nQ 42.578125 3.328125 38.25 0.953125 \r\nQ 33.9375 -1.421875 27.875 -1.421875 \r\nQ 17.96875 -1.421875 11.734375 6.484375 \r\nQ 5.515625 14.40625 5.515625 27.296875 \r\nQ 5.515625 40.1875 11.734375 48.09375 \r\nQ 17.96875 56 27.875 56 \r\nQ 33.9375 56 38.25 53.625 \r\nQ 42.578125 51.265625 45.40625 46.390625 \r\nz\r\nM 14.796875 27.296875 \r\nQ 14.796875 17.390625 18.875 11.75 \r\nQ 22.953125 6.109375 30.078125 6.109375 \r\nQ 37.203125 6.109375 41.296875 11.75 \r\nQ 45.40625 17.390625 45.40625 27.296875 \r\nQ 45.40625 37.203125 41.296875 42.84375 \r\nQ 37.203125 48.484375 30.078125 48.484375 \r\nQ 22.953125 48.484375 18.875 42.84375 \r\nQ 14.796875 37.203125 14.796875 27.296875 \r\nz\r\n\" id=\"DejaVuSans-100\"/>\r\n      </defs>\r\n      <use xlink:href=\"#DejaVuSans-105\"/>\r\n      <use x=\"27.783203\" xlink:href=\"#DejaVuSans-115\"/>\r\n      <use x=\"79.882812\" xlink:href=\"#DejaVuSans-70\"/>\r\n      <use x=\"130.152344\" xlink:href=\"#DejaVuSans-114\"/>\r\n      <use x=\"171.265625\" xlink:href=\"#DejaVuSans-97\"/>\r\n      <use x=\"232.544922\" xlink:href=\"#DejaVuSans-117\"/>\r\n      <use x=\"295.923828\" xlink:href=\"#DejaVuSans-100\"/>\r\n     </g>\r\n    </g>\r\n   </g>\r\n   <g id=\"matplotlib.axis_2\">\r\n    <g id=\"ytick_1\">\r\n     <g id=\"line2d_3\">\r\n      <defs>\r\n       <path d=\"M 0 0 \r\nL -3.5 0 \r\n\" id=\"m74495ee9c1\" style=\"stroke:#000000;stroke-width:0.8;\"/>\r\n      </defs>\r\n      <g>\r\n       <use style=\"stroke:#000000;stroke-width:0.8;\" x=\"66.053125\" xlink:href=\"#m74495ee9c1\" y=\"224.64\"/>\r\n      </g>\r\n     </g>\r\n     <g id=\"text_4\">\r\n      <!-- 0 -->\r\n      <g transform=\"translate(52.690625 228.439219)scale(0.1 -0.1)\">\r\n       <use xlink:href=\"#DejaVuSans-48\"/>\r\n      </g>\r\n     </g>\r\n    </g>\r\n    <g id=\"ytick_2\">\r\n     <g id=\"line2d_4\">\r\n      <g>\r\n       <use style=\"stroke:#000000;stroke-width:0.8;\" x=\"66.053125\" xlink:href=\"#m74495ee9c1\" y=\"188.301268\"/>\r\n      </g>\r\n     </g>\r\n     <g id=\"text_5\">\r\n      <!-- 100000 -->\r\n      <g transform=\"translate(20.878125 192.100486)scale(0.1 -0.1)\">\r\n       <use xlink:href=\"#DejaVuSans-49\"/>\r\n       <use x=\"63.623047\" xlink:href=\"#DejaVuSans-48\"/>\r\n       <use x=\"127.246094\" xlink:href=\"#DejaVuSans-48\"/>\r\n       <use x=\"190.869141\" xlink:href=\"#DejaVuSans-48\"/>\r\n       <use x=\"254.492188\" xlink:href=\"#DejaVuSans-48\"/>\r\n       <use x=\"318.115234\" xlink:href=\"#DejaVuSans-48\"/>\r\n      </g>\r\n     </g>\r\n    </g>\r\n    <g id=\"ytick_3\">\r\n     <g id=\"line2d_5\">\r\n      <g>\r\n       <use style=\"stroke:#000000;stroke-width:0.8;\" x=\"66.053125\" xlink:href=\"#m74495ee9c1\" y=\"151.962535\"/>\r\n      </g>\r\n     </g>\r\n     <g id=\"text_6\">\r\n      <!-- 200000 -->\r\n      <g transform=\"translate(20.878125 155.761754)scale(0.1 -0.1)\">\r\n       <defs>\r\n        <path d=\"M 19.1875 8.296875 \r\nL 53.609375 8.296875 \r\nL 53.609375 0 \r\nL 7.328125 0 \r\nL 7.328125 8.296875 \r\nQ 12.9375 14.109375 22.625 23.890625 \r\nQ 32.328125 33.6875 34.8125 36.53125 \r\nQ 39.546875 41.84375 41.421875 45.53125 \r\nQ 43.3125 49.21875 43.3125 52.78125 \r\nQ 43.3125 58.59375 39.234375 62.25 \r\nQ 35.15625 65.921875 28.609375 65.921875 \r\nQ 23.96875 65.921875 18.8125 64.3125 \r\nQ 13.671875 62.703125 7.8125 59.421875 \r\nL 7.8125 69.390625 \r\nQ 13.765625 71.78125 18.9375 73 \r\nQ 24.125 74.21875 28.421875 74.21875 \r\nQ 39.75 74.21875 46.484375 68.546875 \r\nQ 53.21875 62.890625 53.21875 53.421875 \r\nQ 53.21875 48.921875 51.53125 44.890625 \r\nQ 49.859375 40.875 45.40625 35.40625 \r\nQ 44.1875 33.984375 37.640625 27.21875 \r\nQ 31.109375 20.453125 19.1875 8.296875 \r\nz\r\n\" id=\"DejaVuSans-50\"/>\r\n       </defs>\r\n       <use xlink:href=\"#DejaVuSans-50\"/>\r\n       <use x=\"63.623047\" xlink:href=\"#DejaVuSans-48\"/>\r\n       <use x=\"127.246094\" xlink:href=\"#DejaVuSans-48\"/>\r\n       <use x=\"190.869141\" xlink:href=\"#DejaVuSans-48\"/>\r\n       <use x=\"254.492188\" xlink:href=\"#DejaVuSans-48\"/>\r\n       <use x=\"318.115234\" xlink:href=\"#DejaVuSans-48\"/>\r\n      </g>\r\n     </g>\r\n    </g>\r\n    <g id=\"ytick_4\">\r\n     <g id=\"line2d_6\">\r\n      <g>\r\n       <use style=\"stroke:#000000;stroke-width:0.8;\" x=\"66.053125\" xlink:href=\"#m74495ee9c1\" y=\"115.623803\"/>\r\n      </g>\r\n     </g>\r\n     <g id=\"text_7\">\r\n      <!-- 300000 -->\r\n      <g transform=\"translate(20.878125 119.423022)scale(0.1 -0.1)\">\r\n       <defs>\r\n        <path d=\"M 40.578125 39.3125 \r\nQ 47.65625 37.796875 51.625 33 \r\nQ 55.609375 28.21875 55.609375 21.1875 \r\nQ 55.609375 10.40625 48.1875 4.484375 \r\nQ 40.765625 -1.421875 27.09375 -1.421875 \r\nQ 22.515625 -1.421875 17.65625 -0.515625 \r\nQ 12.796875 0.390625 7.625 2.203125 \r\nL 7.625 11.71875 \r\nQ 11.71875 9.328125 16.59375 8.109375 \r\nQ 21.484375 6.890625 26.8125 6.890625 \r\nQ 36.078125 6.890625 40.9375 10.546875 \r\nQ 45.796875 14.203125 45.796875 21.1875 \r\nQ 45.796875 27.640625 41.28125 31.265625 \r\nQ 36.765625 34.90625 28.71875 34.90625 \r\nL 20.21875 34.90625 \r\nL 20.21875 43.015625 \r\nL 29.109375 43.015625 \r\nQ 36.375 43.015625 40.234375 45.921875 \r\nQ 44.09375 48.828125 44.09375 54.296875 \r\nQ 44.09375 59.90625 40.109375 62.90625 \r\nQ 36.140625 65.921875 28.71875 65.921875 \r\nQ 24.65625 65.921875 20.015625 65.03125 \r\nQ 15.375 64.15625 9.8125 62.3125 \r\nL 9.8125 71.09375 \r\nQ 15.4375 72.65625 20.34375 73.4375 \r\nQ 25.25 74.21875 29.59375 74.21875 \r\nQ 40.828125 74.21875 47.359375 69.109375 \r\nQ 53.90625 64.015625 53.90625 55.328125 \r\nQ 53.90625 49.265625 50.4375 45.09375 \r\nQ 46.96875 40.921875 40.578125 39.3125 \r\nz\r\n\" id=\"DejaVuSans-51\"/>\r\n       </defs>\r\n       <use xlink:href=\"#DejaVuSans-51\"/>\r\n       <use x=\"63.623047\" xlink:href=\"#DejaVuSans-48\"/>\r\n       <use x=\"127.246094\" xlink:href=\"#DejaVuSans-48\"/>\r\n       <use x=\"190.869141\" xlink:href=\"#DejaVuSans-48\"/>\r\n       <use x=\"254.492188\" xlink:href=\"#DejaVuSans-48\"/>\r\n       <use x=\"318.115234\" xlink:href=\"#DejaVuSans-48\"/>\r\n      </g>\r\n     </g>\r\n    </g>\r\n    <g id=\"ytick_5\">\r\n     <g id=\"line2d_7\">\r\n      <g>\r\n       <use style=\"stroke:#000000;stroke-width:0.8;\" x=\"66.053125\" xlink:href=\"#m74495ee9c1\" y=\"79.285071\"/>\r\n      </g>\r\n     </g>\r\n     <g id=\"text_8\">\r\n      <!-- 400000 -->\r\n      <g transform=\"translate(20.878125 83.084289)scale(0.1 -0.1)\">\r\n       <defs>\r\n        <path d=\"M 37.796875 64.3125 \r\nL 12.890625 25.390625 \r\nL 37.796875 25.390625 \r\nz\r\nM 35.203125 72.90625 \r\nL 47.609375 72.90625 \r\nL 47.609375 25.390625 \r\nL 58.015625 25.390625 \r\nL 58.015625 17.1875 \r\nL 47.609375 17.1875 \r\nL 47.609375 0 \r\nL 37.796875 0 \r\nL 37.796875 17.1875 \r\nL 4.890625 17.1875 \r\nL 4.890625 26.703125 \r\nz\r\n\" id=\"DejaVuSans-52\"/>\r\n       </defs>\r\n       <use xlink:href=\"#DejaVuSans-52\"/>\r\n       <use x=\"63.623047\" xlink:href=\"#DejaVuSans-48\"/>\r\n       <use x=\"127.246094\" xlink:href=\"#DejaVuSans-48\"/>\r\n       <use x=\"190.869141\" xlink:href=\"#DejaVuSans-48\"/>\r\n       <use x=\"254.492188\" xlink:href=\"#DejaVuSans-48\"/>\r\n       <use x=\"318.115234\" xlink:href=\"#DejaVuSans-48\"/>\r\n      </g>\r\n     </g>\r\n    </g>\r\n    <g id=\"ytick_6\">\r\n     <g id=\"line2d_8\">\r\n      <g>\r\n       <use style=\"stroke:#000000;stroke-width:0.8;\" x=\"66.053125\" xlink:href=\"#m74495ee9c1\" y=\"42.946338\"/>\r\n      </g>\r\n     </g>\r\n     <g id=\"text_9\">\r\n      <!-- 500000 -->\r\n      <g transform=\"translate(20.878125 46.745557)scale(0.1 -0.1)\">\r\n       <defs>\r\n        <path d=\"M 10.796875 72.90625 \r\nL 49.515625 72.90625 \r\nL 49.515625 64.59375 \r\nL 19.828125 64.59375 \r\nL 19.828125 46.734375 \r\nQ 21.96875 47.46875 24.109375 47.828125 \r\nQ 26.265625 48.1875 28.421875 48.1875 \r\nQ 40.625 48.1875 47.75 41.5 \r\nQ 54.890625 34.8125 54.890625 23.390625 \r\nQ 54.890625 11.625 47.5625 5.09375 \r\nQ 40.234375 -1.421875 26.90625 -1.421875 \r\nQ 22.3125 -1.421875 17.546875 -0.640625 \r\nQ 12.796875 0.140625 7.71875 1.703125 \r\nL 7.71875 11.625 \r\nQ 12.109375 9.234375 16.796875 8.0625 \r\nQ 21.484375 6.890625 26.703125 6.890625 \r\nQ 35.15625 6.890625 40.078125 11.328125 \r\nQ 45.015625 15.765625 45.015625 23.390625 \r\nQ 45.015625 31 40.078125 35.4375 \r\nQ 35.15625 39.890625 26.703125 39.890625 \r\nQ 22.75 39.890625 18.8125 39.015625 \r\nQ 14.890625 38.140625 10.796875 36.28125 \r\nz\r\n\" id=\"DejaVuSans-53\"/>\r\n       </defs>\r\n       <use xlink:href=\"#DejaVuSans-53\"/>\r\n       <use x=\"63.623047\" xlink:href=\"#DejaVuSans-48\"/>\r\n       <use x=\"127.246094\" xlink:href=\"#DejaVuSans-48\"/>\r\n       <use x=\"190.869141\" xlink:href=\"#DejaVuSans-48\"/>\r\n       <use x=\"254.492188\" xlink:href=\"#DejaVuSans-48\"/>\r\n       <use x=\"318.115234\" xlink:href=\"#DejaVuSans-48\"/>\r\n      </g>\r\n     </g>\r\n    </g>\r\n    <g id=\"text_10\">\r\n     <!-- count -->\r\n     <g transform=\"translate(14.798438 130.02625)rotate(-90)scale(0.1 -0.1)\">\r\n      <defs>\r\n       <path d=\"M 48.78125 52.59375 \r\nL 48.78125 44.1875 \r\nQ 44.96875 46.296875 41.140625 47.34375 \r\nQ 37.3125 48.390625 33.40625 48.390625 \r\nQ 24.65625 48.390625 19.8125 42.84375 \r\nQ 14.984375 37.3125 14.984375 27.296875 \r\nQ 14.984375 17.28125 19.8125 11.734375 \r\nQ 24.65625 6.203125 33.40625 6.203125 \r\nQ 37.3125 6.203125 41.140625 7.25 \r\nQ 44.96875 8.296875 48.78125 10.40625 \r\nL 48.78125 2.09375 \r\nQ 45.015625 0.34375 40.984375 -0.53125 \r\nQ 36.96875 -1.421875 32.421875 -1.421875 \r\nQ 20.0625 -1.421875 12.78125 6.34375 \r\nQ 5.515625 14.109375 5.515625 27.296875 \r\nQ 5.515625 40.671875 12.859375 48.328125 \r\nQ 20.21875 56 33.015625 56 \r\nQ 37.15625 56 41.109375 55.140625 \r\nQ 45.0625 54.296875 48.78125 52.59375 \r\nz\r\n\" id=\"DejaVuSans-99\"/>\r\n       <path d=\"M 30.609375 48.390625 \r\nQ 23.390625 48.390625 19.1875 42.75 \r\nQ 14.984375 37.109375 14.984375 27.296875 \r\nQ 14.984375 17.484375 19.15625 11.84375 \r\nQ 23.34375 6.203125 30.609375 6.203125 \r\nQ 37.796875 6.203125 41.984375 11.859375 \r\nQ 46.1875 17.53125 46.1875 27.296875 \r\nQ 46.1875 37.015625 41.984375 42.703125 \r\nQ 37.796875 48.390625 30.609375 48.390625 \r\nz\r\nM 30.609375 56 \r\nQ 42.328125 56 49.015625 48.375 \r\nQ 55.71875 40.765625 55.71875 27.296875 \r\nQ 55.71875 13.875 49.015625 6.21875 \r\nQ 42.328125 -1.421875 30.609375 -1.421875 \r\nQ 18.84375 -1.421875 12.171875 6.21875 \r\nQ 5.515625 13.875 5.515625 27.296875 \r\nQ 5.515625 40.765625 12.171875 48.375 \r\nQ 18.84375 56 30.609375 56 \r\nz\r\n\" id=\"DejaVuSans-111\"/>\r\n       <path d=\"M 54.890625 33.015625 \r\nL 54.890625 0 \r\nL 45.90625 0 \r\nL 45.90625 32.71875 \r\nQ 45.90625 40.484375 42.875 44.328125 \r\nQ 39.84375 48.1875 33.796875 48.1875 \r\nQ 26.515625 48.1875 22.3125 43.546875 \r\nQ 18.109375 38.921875 18.109375 30.90625 \r\nL 18.109375 0 \r\nL 9.078125 0 \r\nL 9.078125 54.6875 \r\nL 18.109375 54.6875 \r\nL 18.109375 46.1875 \r\nQ 21.34375 51.125 25.703125 53.5625 \r\nQ 30.078125 56 35.796875 56 \r\nQ 45.21875 56 50.046875 50.171875 \r\nQ 54.890625 44.34375 54.890625 33.015625 \r\nz\r\n\" id=\"DejaVuSans-110\"/>\r\n       <path d=\"M 18.3125 70.21875 \r\nL 18.3125 54.6875 \r\nL 36.8125 54.6875 \r\nL 36.8125 47.703125 \r\nL 18.3125 47.703125 \r\nL 18.3125 18.015625 \r\nQ 18.3125 11.328125 20.140625 9.421875 \r\nQ 21.96875 7.515625 27.59375 7.515625 \r\nL 36.8125 7.515625 \r\nL 36.8125 0 \r\nL 27.59375 0 \r\nQ 17.1875 0 13.234375 3.875 \r\nQ 9.28125 7.765625 9.28125 18.015625 \r\nL 9.28125 47.703125 \r\nL 2.6875 47.703125 \r\nL 2.6875 54.6875 \r\nL 9.28125 54.6875 \r\nL 9.28125 70.21875 \r\nz\r\n\" id=\"DejaVuSans-116\"/>\r\n      </defs>\r\n      <use xlink:href=\"#DejaVuSans-99\"/>\r\n      <use x=\"54.980469\" xlink:href=\"#DejaVuSans-111\"/>\r\n      <use x=\"116.162109\" xlink:href=\"#DejaVuSans-117\"/>\r\n      <use x=\"179.541016\" xlink:href=\"#DejaVuSans-110\"/>\r\n      <use x=\"242.919922\" xlink:href=\"#DejaVuSans-116\"/>\r\n     </g>\r\n    </g>\r\n   </g>\r\n   <g id=\"patch_5\">\r\n    <path d=\"M 66.053125 224.64 \r\nL 66.053125 7.2 \r\n\" style=\"fill:none;stroke:#000000;stroke-linecap:square;stroke-linejoin:miter;stroke-width:0.8;\"/>\r\n   </g>\r\n   <g id=\"patch_6\">\r\n    <path d=\"M 400.853125 224.64 \r\nL 400.853125 7.2 \r\n\" style=\"fill:none;stroke:#000000;stroke-linecap:square;stroke-linejoin:miter;stroke-width:0.8;\"/>\r\n   </g>\r\n   <g id=\"patch_7\">\r\n    <path d=\"M 66.053125 224.64 \r\nL 400.853125 224.64 \r\n\" style=\"fill:none;stroke:#000000;stroke-linecap:square;stroke-linejoin:miter;stroke-width:0.8;\"/>\r\n   </g>\r\n   <g id=\"patch_8\">\r\n    <path d=\"M 66.053125 7.2 \r\nL 400.853125 7.2 \r\n\" style=\"fill:none;stroke:#000000;stroke-linecap:square;stroke-linejoin:miter;stroke-width:0.8;\"/>\r\n   </g>\r\n  </g>\r\n </g>\r\n <defs>\r\n  <clipPath id=\"p55e959a982\">\r\n   <rect height=\"217.44\" width=\"334.8\" x=\"66.053125\" y=\"7.2\"/>\r\n  </clipPath>\r\n </defs>\r\n</svg>\r\n",
            "image/png": "[encoded data removed]"
          },
          "metadata": {
            "needs_background": "light"
          }
        }
      ]
    },
    {
      "cell_type": "markdown",
      "metadata": {
        "id": "ukECAVgb_QH9"
      },
      "source": [
        "# **AutoEncoder**"
      ]
    },
    {
      "cell_type": "code",
      "execution_count": 53,
      "metadata": {},
      "outputs": [
        {
          "output_type": "execute_result",
          "data": {
            "text/plain": [
              "        TransactionDT  TransactionAmt     card1  card2     card3     card5  \\\n",
              "0            0.000000        0.002137  0.742989  0.442  0.381679  0.306569   \n",
              "1            0.616306        0.001493  0.618391  0.910  0.381679  0.919708   \n",
              "2            0.616304        0.000805  0.108276  0.780  0.381679  0.919708   \n",
              "3            0.616303        0.003123  0.327356  0.022  0.381679  0.693431   \n",
              "4            0.616301        0.006599  0.356782  0.022  0.381679  0.919708   \n",
              "...               ...             ...       ...    ...       ...       ...   \n",
              "569872       0.273810        0.001072  0.517241  0.188  0.381679  0.481752   \n",
              "569873       0.307276        0.001840  0.731954  0.782  0.381679  0.919708   \n",
              "569874       0.269051        0.000961  0.666667  0.022  0.381679  0.481752   \n",
              "569875       0.272950        0.003123  0.811035  0.420  0.381679  0.905109   \n",
              "569876       0.269023        0.000932  0.469885  0.022  0.381679  0.919708   \n",
              "\n",
              "           addr1     addr2     dist1        C1  ...  id_35_F  id_35_T  \\\n",
              "0       0.488636  0.831461  0.001847  0.000213  ...      0.0      0.0   \n",
              "1       0.050000  0.831461  0.000000  0.002562  ...      0.0      0.0   \n",
              "2       0.488636  0.831461  0.000000  0.025833  ...      0.0      0.0   \n",
              "3       0.452273  0.831461  0.000000  0.001281  ...      0.0      1.0   \n",
              "4       0.236364  0.831461  0.000000  0.000213  ...      0.0      0.0   \n",
              "...          ...       ...       ...       ...  ...      ...      ...   \n",
              "569872  0.097727  0.831461  0.000000  0.000213  ...      0.0      0.0   \n",
              "569873  0.538636  0.831461  0.000000  0.000640  ...      0.0      0.0   \n",
              "569874  0.272727  0.831461  0.000000  0.000213  ...      0.0      0.0   \n",
              "569875  0.390909  0.831461  0.000000  0.000213  ...      0.0      1.0   \n",
              "569876  0.059091  0.831461  0.000000  0.000213  ...      0.0      0.0   \n",
              "\n",
              "        id_36_F  id_36_T  id_37_F  id_37_T  id_38_F  id_38_T  \\\n",
              "0           0.0      0.0      0.0      0.0      0.0      0.0   \n",
              "1           0.0      0.0      0.0      0.0      0.0      0.0   \n",
              "2           0.0      0.0      0.0      0.0      0.0      0.0   \n",
              "3           1.0      0.0      1.0      0.0      1.0      0.0   \n",
              "4           0.0      0.0      0.0      0.0      0.0      0.0   \n",
              "...         ...      ...      ...      ...      ...      ...   \n",
              "569872      0.0      0.0      0.0      0.0      0.0      0.0   \n",
              "569873      0.0      0.0      0.0      0.0      0.0      0.0   \n",
              "569874      0.0      0.0      0.0      0.0      0.0      0.0   \n",
              "569875      1.0      0.0      0.0      1.0      1.0      0.0   \n",
              "569876      0.0      0.0      0.0      0.0      0.0      0.0   \n",
              "\n",
              "        DeviceType_desktop  DeviceType_mobile  \n",
              "0                      0.0                0.0  \n",
              "1                      0.0                0.0  \n",
              "2                      0.0                0.0  \n",
              "3                      0.0                1.0  \n",
              "4                      0.0                0.0  \n",
              "...                    ...                ...  \n",
              "569872                 0.0                0.0  \n",
              "569873                 0.0                0.0  \n",
              "569874                 0.0                0.0  \n",
              "569875                 1.0                0.0  \n",
              "569876                 0.0                0.0  \n",
              "\n",
              "[569877 rows x 450 columns]"
            ],
            "text/html": "<div>\n<style scoped>\n    .dataframe tbody tr th:only-of-type {\n        vertical-align: middle;\n    }\n\n    .dataframe tbody tr th {\n        vertical-align: top;\n    }\n\n    .dataframe thead th {\n        text-align: right;\n    }\n</style>\n<table border=\"1\" class=\"dataframe\">\n  <thead>\n    <tr style=\"text-align: right;\">\n      <th></th>\n      <th>TransactionDT</th>\n      <th>TransactionAmt</th>\n      <th>card1</th>\n      <th>card2</th>\n      <th>card3</th>\n      <th>card5</th>\n      <th>addr1</th>\n      <th>addr2</th>\n      <th>dist1</th>\n      <th>C1</th>\n      <th>...</th>\n      <th>id_35_F</th>\n      <th>id_35_T</th>\n      <th>id_36_F</th>\n      <th>id_36_T</th>\n      <th>id_37_F</th>\n      <th>id_37_T</th>\n      <th>id_38_F</th>\n      <th>id_38_T</th>\n      <th>DeviceType_desktop</th>\n      <th>DeviceType_mobile</th>\n    </tr>\n  </thead>\n  <tbody>\n    <tr>\n      <th>0</th>\n      <td>0.000000</td>\n      <td>0.002137</td>\n      <td>0.742989</td>\n      <td>0.442</td>\n      <td>0.381679</td>\n      <td>0.306569</td>\n      <td>0.488636</td>\n      <td>0.831461</td>\n      <td>0.001847</td>\n      <td>0.000213</td>\n      <td>...</td>\n      <td>0.0</td>\n      <td>0.0</td>\n      <td>0.0</td>\n      <td>0.0</td>\n      <td>0.0</td>\n      <td>0.0</td>\n      <td>0.0</td>\n      <td>0.0</td>\n      <td>0.0</td>\n      <td>0.0</td>\n    </tr>\n    <tr>\n      <th>1</th>\n      <td>0.616306</td>\n      <td>0.001493</td>\n      <td>0.618391</td>\n      <td>0.910</td>\n      <td>0.381679</td>\n      <td>0.919708</td>\n      <td>0.050000</td>\n      <td>0.831461</td>\n      <td>0.000000</td>\n      <td>0.002562</td>\n      <td>...</td>\n      <td>0.0</td>\n      <td>0.0</td>\n      <td>0.0</td>\n      <td>0.0</td>\n      <td>0.0</td>\n      <td>0.0</td>\n      <td>0.0</td>\n      <td>0.0</td>\n      <td>0.0</td>\n      <td>0.0</td>\n    </tr>\n    <tr>\n      <th>2</th>\n      <td>0.616304</td>\n      <td>0.000805</td>\n      <td>0.108276</td>\n      <td>0.780</td>\n      <td>0.381679</td>\n      <td>0.919708</td>\n      <td>0.488636</td>\n      <td>0.831461</td>\n      <td>0.000000</td>\n      <td>0.025833</td>\n      <td>...</td>\n      <td>0.0</td>\n      <td>0.0</td>\n      <td>0.0</td>\n      <td>0.0</td>\n      <td>0.0</td>\n      <td>0.0</td>\n      <td>0.0</td>\n      <td>0.0</td>\n      <td>0.0</td>\n      <td>0.0</td>\n    </tr>\n    <tr>\n      <th>3</th>\n      <td>0.616303</td>\n      <td>0.003123</td>\n      <td>0.327356</td>\n      <td>0.022</td>\n      <td>0.381679</td>\n      <td>0.693431</td>\n      <td>0.452273</td>\n      <td>0.831461</td>\n      <td>0.000000</td>\n      <td>0.001281</td>\n      <td>...</td>\n      <td>0.0</td>\n      <td>1.0</td>\n      <td>1.0</td>\n      <td>0.0</td>\n      <td>1.0</td>\n      <td>0.0</td>\n      <td>1.0</td>\n      <td>0.0</td>\n      <td>0.0</td>\n      <td>1.0</td>\n    </tr>\n    <tr>\n      <th>4</th>\n      <td>0.616301</td>\n      <td>0.006599</td>\n      <td>0.356782</td>\n      <td>0.022</td>\n      <td>0.381679</td>\n      <td>0.919708</td>\n      <td>0.236364</td>\n      <td>0.831461</td>\n      <td>0.000000</td>\n      <td>0.000213</td>\n      <td>...</td>\n      <td>0.0</td>\n      <td>0.0</td>\n      <td>0.0</td>\n      <td>0.0</td>\n      <td>0.0</td>\n      <td>0.0</td>\n      <td>0.0</td>\n      <td>0.0</td>\n      <td>0.0</td>\n      <td>0.0</td>\n    </tr>\n    <tr>\n      <th>...</th>\n      <td>...</td>\n      <td>...</td>\n      <td>...</td>\n      <td>...</td>\n      <td>...</td>\n      <td>...</td>\n      <td>...</td>\n      <td>...</td>\n      <td>...</td>\n      <td>...</td>\n      <td>...</td>\n      <td>...</td>\n      <td>...</td>\n      <td>...</td>\n      <td>...</td>\n      <td>...</td>\n      <td>...</td>\n      <td>...</td>\n      <td>...</td>\n      <td>...</td>\n      <td>...</td>\n    </tr>\n    <tr>\n      <th>569872</th>\n      <td>0.273810</td>\n      <td>0.001072</td>\n      <td>0.517241</td>\n      <td>0.188</td>\n      <td>0.381679</td>\n      <td>0.481752</td>\n      <td>0.097727</td>\n      <td>0.831461</td>\n      <td>0.000000</td>\n      <td>0.000213</td>\n      <td>...</td>\n      <td>0.0</td>\n      <td>0.0</td>\n      <td>0.0</td>\n      <td>0.0</td>\n      <td>0.0</td>\n      <td>0.0</td>\n      <td>0.0</td>\n      <td>0.0</td>\n      <td>0.0</td>\n      <td>0.0</td>\n    </tr>\n    <tr>\n      <th>569873</th>\n      <td>0.307276</td>\n      <td>0.001840</td>\n      <td>0.731954</td>\n      <td>0.782</td>\n      <td>0.381679</td>\n      <td>0.919708</td>\n      <td>0.538636</td>\n      <td>0.831461</td>\n      <td>0.000000</td>\n      <td>0.000640</td>\n      <td>...</td>\n      <td>0.0</td>\n      <td>0.0</td>\n      <td>0.0</td>\n      <td>0.0</td>\n      <td>0.0</td>\n      <td>0.0</td>\n      <td>0.0</td>\n      <td>0.0</td>\n      <td>0.0</td>\n      <td>0.0</td>\n    </tr>\n    <tr>\n      <th>569874</th>\n      <td>0.269051</td>\n      <td>0.000961</td>\n      <td>0.666667</td>\n      <td>0.022</td>\n      <td>0.381679</td>\n      <td>0.481752</td>\n      <td>0.272727</td>\n      <td>0.831461</td>\n      <td>0.000000</td>\n      <td>0.000213</td>\n      <td>...</td>\n      <td>0.0</td>\n      <td>0.0</td>\n      <td>0.0</td>\n      <td>0.0</td>\n      <td>0.0</td>\n      <td>0.0</td>\n      <td>0.0</td>\n      <td>0.0</td>\n      <td>0.0</td>\n      <td>0.0</td>\n    </tr>\n    <tr>\n      <th>569875</th>\n      <td>0.272950</td>\n      <td>0.003123</td>\n      <td>0.811035</td>\n      <td>0.420</td>\n      <td>0.381679</td>\n      <td>0.905109</td>\n      <td>0.390909</td>\n      <td>0.831461</td>\n      <td>0.000000</td>\n      <td>0.000213</td>\n      <td>...</td>\n      <td>0.0</td>\n      <td>1.0</td>\n      <td>1.0</td>\n      <td>0.0</td>\n      <td>0.0</td>\n      <td>1.0</td>\n      <td>1.0</td>\n      <td>0.0</td>\n      <td>1.0</td>\n      <td>0.0</td>\n    </tr>\n    <tr>\n      <th>569876</th>\n      <td>0.269023</td>\n      <td>0.000932</td>\n      <td>0.469885</td>\n      <td>0.022</td>\n      <td>0.381679</td>\n      <td>0.919708</td>\n      <td>0.059091</td>\n      <td>0.831461</td>\n      <td>0.000000</td>\n      <td>0.000213</td>\n      <td>...</td>\n      <td>0.0</td>\n      <td>0.0</td>\n      <td>0.0</td>\n      <td>0.0</td>\n      <td>0.0</td>\n      <td>0.0</td>\n      <td>0.0</td>\n      <td>0.0</td>\n      <td>0.0</td>\n      <td>0.0</td>\n    </tr>\n  </tbody>\n</table>\n<p>569877 rows × 450 columns</p>\n</div>"
          },
          "metadata": {},
          "execution_count": 53
        }
      ],
      "source": [
        "df_notfraud"
      ]
    },
    {
      "cell_type": "code",
      "execution_count": 54,
      "metadata": {},
      "outputs": [
        {
          "output_type": "execute_result",
          "data": {
            "text/plain": [
              "        TransactionDT  TransactionAmt     card1  card2     card3     card5  \\\n",
              "0            0.000000        0.002137  0.742989  0.442  0.381679  0.306569   \n",
              "1            0.616306        0.001493  0.618391  0.910  0.381679  0.919708   \n",
              "2            0.616304        0.000805  0.108276  0.780  0.381679  0.919708   \n",
              "3            0.616303        0.003123  0.327356  0.022  0.381679  0.693431   \n",
              "4            0.616301        0.006599  0.356782  0.022  0.381679  0.919708   \n",
              "...               ...             ...       ...    ...       ...       ...   \n",
              "569872       0.273810        0.001072  0.517241  0.188  0.381679  0.481752   \n",
              "569873       0.307276        0.001840  0.731954  0.782  0.381679  0.919708   \n",
              "569874       0.269051        0.000961  0.666667  0.022  0.381679  0.481752   \n",
              "569875       0.272950        0.003123  0.811035  0.420  0.381679  0.905109   \n",
              "569876       0.269023        0.000932  0.469885  0.022  0.381679  0.919708   \n",
              "\n",
              "           addr1     addr2     dist1        C1  ...  id_35_F  id_35_T  \\\n",
              "0       0.488636  0.831461  0.001847  0.000213  ...      0.0      0.0   \n",
              "1       0.050000  0.831461  0.000000  0.002562  ...      0.0      0.0   \n",
              "2       0.488636  0.831461  0.000000  0.025833  ...      0.0      0.0   \n",
              "3       0.452273  0.831461  0.000000  0.001281  ...      0.0      1.0   \n",
              "4       0.236364  0.831461  0.000000  0.000213  ...      0.0      0.0   \n",
              "...          ...       ...       ...       ...  ...      ...      ...   \n",
              "569872  0.097727  0.831461  0.000000  0.000213  ...      0.0      0.0   \n",
              "569873  0.538636  0.831461  0.000000  0.000640  ...      0.0      0.0   \n",
              "569874  0.272727  0.831461  0.000000  0.000213  ...      0.0      0.0   \n",
              "569875  0.390909  0.831461  0.000000  0.000213  ...      0.0      1.0   \n",
              "569876  0.059091  0.831461  0.000000  0.000213  ...      0.0      0.0   \n",
              "\n",
              "        id_36_F  id_36_T  id_37_F  id_37_T  id_38_F  id_38_T  \\\n",
              "0           0.0      0.0      0.0      0.0      0.0      0.0   \n",
              "1           0.0      0.0      0.0      0.0      0.0      0.0   \n",
              "2           0.0      0.0      0.0      0.0      0.0      0.0   \n",
              "3           1.0      0.0      1.0      0.0      1.0      0.0   \n",
              "4           0.0      0.0      0.0      0.0      0.0      0.0   \n",
              "...         ...      ...      ...      ...      ...      ...   \n",
              "569872      0.0      0.0      0.0      0.0      0.0      0.0   \n",
              "569873      0.0      0.0      0.0      0.0      0.0      0.0   \n",
              "569874      0.0      0.0      0.0      0.0      0.0      0.0   \n",
              "569875      1.0      0.0      0.0      1.0      1.0      0.0   \n",
              "569876      0.0      0.0      0.0      0.0      0.0      0.0   \n",
              "\n",
              "        DeviceType_desktop  DeviceType_mobile  \n",
              "0                      0.0                0.0  \n",
              "1                      0.0                0.0  \n",
              "2                      0.0                0.0  \n",
              "3                      0.0                1.0  \n",
              "4                      0.0                0.0  \n",
              "...                    ...                ...  \n",
              "569872                 0.0                0.0  \n",
              "569873                 0.0                0.0  \n",
              "569874                 0.0                0.0  \n",
              "569875                 1.0                0.0  \n",
              "569876                 0.0                0.0  \n",
              "\n",
              "[569877 rows x 450 columns]"
            ],
            "text/html": "<div>\n<style scoped>\n    .dataframe tbody tr th:only-of-type {\n        vertical-align: middle;\n    }\n\n    .dataframe tbody tr th {\n        vertical-align: top;\n    }\n\n    .dataframe thead th {\n        text-align: right;\n    }\n</style>\n<table border=\"1\" class=\"dataframe\">\n  <thead>\n    <tr style=\"text-align: right;\">\n      <th></th>\n      <th>TransactionDT</th>\n      <th>TransactionAmt</th>\n      <th>card1</th>\n      <th>card2</th>\n      <th>card3</th>\n      <th>card5</th>\n      <th>addr1</th>\n      <th>addr2</th>\n      <th>dist1</th>\n      <th>C1</th>\n      <th>...</th>\n      <th>id_35_F</th>\n      <th>id_35_T</th>\n      <th>id_36_F</th>\n      <th>id_36_T</th>\n      <th>id_37_F</th>\n      <th>id_37_T</th>\n      <th>id_38_F</th>\n      <th>id_38_T</th>\n      <th>DeviceType_desktop</th>\n      <th>DeviceType_mobile</th>\n    </tr>\n  </thead>\n  <tbody>\n    <tr>\n      <th>0</th>\n      <td>0.000000</td>\n      <td>0.002137</td>\n      <td>0.742989</td>\n      <td>0.442</td>\n      <td>0.381679</td>\n      <td>0.306569</td>\n      <td>0.488636</td>\n      <td>0.831461</td>\n      <td>0.001847</td>\n      <td>0.000213</td>\n      <td>...</td>\n      <td>0.0</td>\n      <td>0.0</td>\n      <td>0.0</td>\n      <td>0.0</td>\n      <td>0.0</td>\n      <td>0.0</td>\n      <td>0.0</td>\n      <td>0.0</td>\n      <td>0.0</td>\n      <td>0.0</td>\n    </tr>\n    <tr>\n      <th>1</th>\n      <td>0.616306</td>\n      <td>0.001493</td>\n      <td>0.618391</td>\n      <td>0.910</td>\n      <td>0.381679</td>\n      <td>0.919708</td>\n      <td>0.050000</td>\n      <td>0.831461</td>\n      <td>0.000000</td>\n      <td>0.002562</td>\n      <td>...</td>\n      <td>0.0</td>\n      <td>0.0</td>\n      <td>0.0</td>\n      <td>0.0</td>\n      <td>0.0</td>\n      <td>0.0</td>\n      <td>0.0</td>\n      <td>0.0</td>\n      <td>0.0</td>\n      <td>0.0</td>\n    </tr>\n    <tr>\n      <th>2</th>\n      <td>0.616304</td>\n      <td>0.000805</td>\n      <td>0.108276</td>\n      <td>0.780</td>\n      <td>0.381679</td>\n      <td>0.919708</td>\n      <td>0.488636</td>\n      <td>0.831461</td>\n      <td>0.000000</td>\n      <td>0.025833</td>\n      <td>...</td>\n      <td>0.0</td>\n      <td>0.0</td>\n      <td>0.0</td>\n      <td>0.0</td>\n      <td>0.0</td>\n      <td>0.0</td>\n      <td>0.0</td>\n      <td>0.0</td>\n      <td>0.0</td>\n      <td>0.0</td>\n    </tr>\n    <tr>\n      <th>3</th>\n      <td>0.616303</td>\n      <td>0.003123</td>\n      <td>0.327356</td>\n      <td>0.022</td>\n      <td>0.381679</td>\n      <td>0.693431</td>\n      <td>0.452273</td>\n      <td>0.831461</td>\n      <td>0.000000</td>\n      <td>0.001281</td>\n      <td>...</td>\n      <td>0.0</td>\n      <td>1.0</td>\n      <td>1.0</td>\n      <td>0.0</td>\n      <td>1.0</td>\n      <td>0.0</td>\n      <td>1.0</td>\n      <td>0.0</td>\n      <td>0.0</td>\n      <td>1.0</td>\n    </tr>\n    <tr>\n      <th>4</th>\n      <td>0.616301</td>\n      <td>0.006599</td>\n      <td>0.356782</td>\n      <td>0.022</td>\n      <td>0.381679</td>\n      <td>0.919708</td>\n      <td>0.236364</td>\n      <td>0.831461</td>\n      <td>0.000000</td>\n      <td>0.000213</td>\n      <td>...</td>\n      <td>0.0</td>\n      <td>0.0</td>\n      <td>0.0</td>\n      <td>0.0</td>\n      <td>0.0</td>\n      <td>0.0</td>\n      <td>0.0</td>\n      <td>0.0</td>\n      <td>0.0</td>\n      <td>0.0</td>\n    </tr>\n    <tr>\n      <th>...</th>\n      <td>...</td>\n      <td>...</td>\n      <td>...</td>\n      <td>...</td>\n      <td>...</td>\n      <td>...</td>\n      <td>...</td>\n      <td>...</td>\n      <td>...</td>\n      <td>...</td>\n      <td>...</td>\n      <td>...</td>\n      <td>...</td>\n      <td>...</td>\n      <td>...</td>\n      <td>...</td>\n      <td>...</td>\n      <td>...</td>\n      <td>...</td>\n      <td>...</td>\n      <td>...</td>\n    </tr>\n    <tr>\n      <th>569872</th>\n      <td>0.273810</td>\n      <td>0.001072</td>\n      <td>0.517241</td>\n      <td>0.188</td>\n      <td>0.381679</td>\n      <td>0.481752</td>\n      <td>0.097727</td>\n      <td>0.831461</td>\n      <td>0.000000</td>\n      <td>0.000213</td>\n      <td>...</td>\n      <td>0.0</td>\n      <td>0.0</td>\n      <td>0.0</td>\n      <td>0.0</td>\n      <td>0.0</td>\n      <td>0.0</td>\n      <td>0.0</td>\n      <td>0.0</td>\n      <td>0.0</td>\n      <td>0.0</td>\n    </tr>\n    <tr>\n      <th>569873</th>\n      <td>0.307276</td>\n      <td>0.001840</td>\n      <td>0.731954</td>\n      <td>0.782</td>\n      <td>0.381679</td>\n      <td>0.919708</td>\n      <td>0.538636</td>\n      <td>0.831461</td>\n      <td>0.000000</td>\n      <td>0.000640</td>\n      <td>...</td>\n      <td>0.0</td>\n      <td>0.0</td>\n      <td>0.0</td>\n      <td>0.0</td>\n      <td>0.0</td>\n      <td>0.0</td>\n      <td>0.0</td>\n      <td>0.0</td>\n      <td>0.0</td>\n      <td>0.0</td>\n    </tr>\n    <tr>\n      <th>569874</th>\n      <td>0.269051</td>\n      <td>0.000961</td>\n      <td>0.666667</td>\n      <td>0.022</td>\n      <td>0.381679</td>\n      <td>0.481752</td>\n      <td>0.272727</td>\n      <td>0.831461</td>\n      <td>0.000000</td>\n      <td>0.000213</td>\n      <td>...</td>\n      <td>0.0</td>\n      <td>0.0</td>\n      <td>0.0</td>\n      <td>0.0</td>\n      <td>0.0</td>\n      <td>0.0</td>\n      <td>0.0</td>\n      <td>0.0</td>\n      <td>0.0</td>\n      <td>0.0</td>\n    </tr>\n    <tr>\n      <th>569875</th>\n      <td>0.272950</td>\n      <td>0.003123</td>\n      <td>0.811035</td>\n      <td>0.420</td>\n      <td>0.381679</td>\n      <td>0.905109</td>\n      <td>0.390909</td>\n      <td>0.831461</td>\n      <td>0.000000</td>\n      <td>0.000213</td>\n      <td>...</td>\n      <td>0.0</td>\n      <td>1.0</td>\n      <td>1.0</td>\n      <td>0.0</td>\n      <td>0.0</td>\n      <td>1.0</td>\n      <td>1.0</td>\n      <td>0.0</td>\n      <td>1.0</td>\n      <td>0.0</td>\n    </tr>\n    <tr>\n      <th>569876</th>\n      <td>0.269023</td>\n      <td>0.000932</td>\n      <td>0.469885</td>\n      <td>0.022</td>\n      <td>0.381679</td>\n      <td>0.919708</td>\n      <td>0.059091</td>\n      <td>0.831461</td>\n      <td>0.000000</td>\n      <td>0.000213</td>\n      <td>...</td>\n      <td>0.0</td>\n      <td>0.0</td>\n      <td>0.0</td>\n      <td>0.0</td>\n      <td>0.0</td>\n      <td>0.0</td>\n      <td>0.0</td>\n      <td>0.0</td>\n      <td>0.0</td>\n      <td>0.0</td>\n    </tr>\n  </tbody>\n</table>\n<p>569877 rows × 450 columns</p>\n</div>"
          },
          "metadata": {},
          "execution_count": 54
        }
      ],
      "source": [
        "df_notfraud"
      ]
    },
    {
      "cell_type": "code",
      "execution_count": 55,
      "metadata": {},
      "outputs": [],
      "source": [
        "for col in df_notfraud.columns:\n",
        "    df_notfraud[col] = np.array(df_notfraud[col].astype('float16'))\n"
      ]
    },
    {
      "cell_type": "code",
      "metadata": {
        "colab": {
          "base_uri": "https://localhost:8080/",
          "height": 561
        },
        "id": "uItsWCj3804x",
        "outputId": "978c947b-28f4-4ce4-9c7f-d3c319b1c2e7"
      },
      "source": [
        "############################# approach 1 : in this approach we'll train the autoEncoder with only the non fradulent data, this way our model\n",
        "############################# will learn to reconstruct these pattern, which ofcourse comes with a cost\n",
        "############################# after the training is done we'll do as follows \n",
        "############################# we predict the test data which is preproccesed before with 'predictions = model.predict(test_df)\n",
        "############################# we calculate the the loss with the following pattern (mae or mse) 'error_test = np.mean(np.abs(predictions - test_df))\n",
        "############################# np.mean is needed because predictions are a serie and we need one single output\n",
        "############################# now we set a variable treshhold = .... this treshhold has to be calculated manuly by testing\n",
        "############################# it's function is to just divide the error_test into 2 , those who have higher error than treshold and those who dont \n",
        "############################# if a data has higher error than treshold we call it a fraud\n",
        "############################# to test the accuracy of your test_predictions we can upload them to the kaggle original problem (IEEE Fraud Detection) and test which ############################# treshold works better\n",
        "\n",
        "\n",
        "############################# approach 2 : in this one we'll train the autoencoder with the df dataset(fraud and notfraud both) \n",
        "############################# this autoencoder will learn to compress the data into a dense laten vector \n",
        "############################# after the training we use only the encoder part to encode the df again, this time after having the latent vector \n",
        "############################# we'll create a simple ANN with input shape of our latent vector and let the classification be done by that \n",
        "############################# for test data, again we encode them and predict their latent vector with the ANN\n",
        "\n",
        "es = EarlyStopping(monitor='val_loss',\n",
        "                   mode='auto',\n",
        "                   verbose=1,\n",
        "                   patience=7)\n",
        "\n",
        "lrr= ReduceLROnPlateau(monitor='val_loss',\n",
        "                       factor=0.1, \n",
        "                       patience=3, \n",
        "                       min_lr=1e-9)\n",
        "\n",
        "\n",
        "\n",
        "encoder_input = Input(450,name = 'input_encoder')\n",
        "encoder = Dense(128, activation='tanh',name = 'encoder_layer1')(encoder_input)\n",
        "encoder = BatchNormalization(name = 'encoder_layer2')(encoder)\n",
        "encoder = Dropout(0.3 , name = 'encoder_layer3')(encoder)\n",
        "encoder = Dense(64, activation='relu',name = 'encoder_layer4')(encoder)\n",
        "encoder = Dense(64, activation='relu',name = 'encoder_layer5')(encoder)\n",
        "encoder_output = Dense(32, activation='relu',name = 'output_encoder')(encoder)\n",
        "\n",
        "Encoder = Model(inputs= [encoder_input], outputs=[encoder_output],name = 'Encoder')\n",
        "#Encoder.summary()\n",
        "\n",
        "\n",
        "\n",
        "decoder_input = Input(32,name = 'input_decoder')\n",
        "decoder = Dense(32, activation='tanh',name = 'decoder_layer1')(decoder_input)\n",
        "decoder = Dense(64, activation='tanh',name = 'decoder_layer2')(decoder)\n",
        "decoder = BatchNormalization(name = 'decoder_layer3')(decoder)\n",
        "decoder = Dropout(0.3 , name = 'decoder_layer4')(decoder)\n",
        "decoder = Dense(64, activation='relu',name = 'decoder_layer5')(decoder)\n",
        "decoder = Dense(128, activation='relu',name = 'decoder_layer6')(decoder)\n",
        "decoder_output = Dense(450,activation = 'sigmoid',name ='output_layer')(decoder)\n",
        "\n",
        "Decoder = Model(inputs= [decoder_input], outputs=[decoder_output],name = 'Decoder')\n",
        "#Decoder.summary()\n",
        "\n",
        "\n",
        "\n",
        "autoencoder_input = Input(450, name = 'input_autoencoder')\n",
        "latent = Encoder(autoencoder_input)\n",
        "decoded_data = Decoder(latent)\n",
        "autoencoder = Model(inputs= [autoencoder_input], outputs=[decoded_data], name = 'AutoEncoder')\n",
        "\n",
        "#autoencoder.summary()\n",
        "\n",
        "\n",
        "sgd = SGD(lr=0.005, momentum=0.99)\n",
        "autoencoder.compile(optimizer=sgd, loss='mae')\n",
        "\n",
        "\n",
        "\n",
        "history = autoencoder.fit(df_notfraud, df_notfraud,\n",
        "                    batch_size = 32,\n",
        "                    validation_split = 0.2,\n",
        "                              epochs= 50,\n",
        "                              callbacks=[es , lrr])"
      ],
      "execution_count": 56,
      "outputs": [
        {
          "output_type": "stream",
          "name": "stdout",
          "text": [
            "Epoch 1/50\n",
            "14247/14247 [==============================] - 33s 2ms/step - loss: 0.0410 - val_loss: 0.0265\n",
            "Epoch 2/50\n",
            "14247/14247 [==============================] - 33s 2ms/step - loss: 0.0271 - val_loss: 0.0240\n",
            "Epoch 3/50\n",
            "14247/14247 [==============================] - 31s 2ms/step - loss: 0.0244 - val_loss: 0.0196\n",
            "Epoch 4/50\n",
            "14247/14247 [==============================] - 32s 2ms/step - loss: 0.0226 - val_loss: 0.0190\n",
            "Epoch 5/50\n",
            "14247/14247 [==============================] - 32s 2ms/step - loss: 0.0220 - val_loss: 0.0185\n",
            "Epoch 6/50\n",
            "14247/14247 [==============================] - 33s 2ms/step - loss: 0.0217 - val_loss: 0.0181\n",
            "Epoch 7/50\n",
            "14247/14247 [==============================] - 33s 2ms/step - loss: 0.0213 - val_loss: 0.0177\n",
            "Epoch 8/50\n",
            "14247/14247 [==============================] - 31s 2ms/step - loss: 0.0210 - val_loss: 0.0174\n",
            "Epoch 9/50\n",
            "14247/14247 [==============================] - 34s 2ms/step - loss: 0.0208 - val_loss: 0.0173\n",
            "Epoch 10/50\n",
            "10471/14247 [=====================>........] - ETA: 8s - loss: 0.0207"
          ]
        },
        {
          "output_type": "error",
          "ename": "KeyboardInterrupt",
          "evalue": "",
          "traceback": [
            "\u001b[1;31m---------------------------------------------------------------------------\u001b[0m",
            "\u001b[1;31mKeyboardInterrupt\u001b[0m                         Traceback (most recent call last)",
            "\u001b[1;32m<ipython-input-56-0c0c9c831590>\u001b[0m in \u001b[0;36m<module>\u001b[1;34m\u001b[0m\n\u001b[0;32m     51\u001b[0m \u001b[1;33m\u001b[0m\u001b[0m\n\u001b[0;32m     52\u001b[0m \u001b[1;33m\u001b[0m\u001b[0m\n\u001b[1;32m---> 53\u001b[1;33m history = autoencoder.fit(df_notfraud, df_notfraud,\n\u001b[0m\u001b[0;32m     54\u001b[0m                     \u001b[0mbatch_size\u001b[0m \u001b[1;33m=\u001b[0m \u001b[1;36m32\u001b[0m\u001b[1;33m,\u001b[0m\u001b[1;33m\u001b[0m\u001b[1;33m\u001b[0m\u001b[0m\n\u001b[0;32m     55\u001b[0m                     \u001b[0mvalidation_split\u001b[0m \u001b[1;33m=\u001b[0m \u001b[1;36m0.2\u001b[0m\u001b[1;33m,\u001b[0m\u001b[1;33m\u001b[0m\u001b[1;33m\u001b[0m\u001b[0m\n",
            "\u001b[1;32m~\\AppData\\Roaming\\Python\\Python38\\site-packages\\tensorflow\\python\\keras\\engine\\training.py\u001b[0m in \u001b[0;36m_method_wrapper\u001b[1;34m(self, *args, **kwargs)\u001b[0m\n\u001b[0;32m    106\u001b[0m   \u001b[1;32mdef\u001b[0m \u001b[0m_method_wrapper\u001b[0m\u001b[1;33m(\u001b[0m\u001b[0mself\u001b[0m\u001b[1;33m,\u001b[0m \u001b[1;33m*\u001b[0m\u001b[0margs\u001b[0m\u001b[1;33m,\u001b[0m \u001b[1;33m**\u001b[0m\u001b[0mkwargs\u001b[0m\u001b[1;33m)\u001b[0m\u001b[1;33m:\u001b[0m\u001b[1;33m\u001b[0m\u001b[1;33m\u001b[0m\u001b[0m\n\u001b[0;32m    107\u001b[0m     \u001b[1;32mif\u001b[0m \u001b[1;32mnot\u001b[0m \u001b[0mself\u001b[0m\u001b[1;33m.\u001b[0m\u001b[0m_in_multi_worker_mode\u001b[0m\u001b[1;33m(\u001b[0m\u001b[1;33m)\u001b[0m\u001b[1;33m:\u001b[0m  \u001b[1;31m# pylint: disable=protected-access\u001b[0m\u001b[1;33m\u001b[0m\u001b[1;33m\u001b[0m\u001b[0m\n\u001b[1;32m--> 108\u001b[1;33m       \u001b[1;32mreturn\u001b[0m \u001b[0mmethod\u001b[0m\u001b[1;33m(\u001b[0m\u001b[0mself\u001b[0m\u001b[1;33m,\u001b[0m \u001b[1;33m*\u001b[0m\u001b[0margs\u001b[0m\u001b[1;33m,\u001b[0m \u001b[1;33m**\u001b[0m\u001b[0mkwargs\u001b[0m\u001b[1;33m)\u001b[0m\u001b[1;33m\u001b[0m\u001b[1;33m\u001b[0m\u001b[0m\n\u001b[0m\u001b[0;32m    109\u001b[0m \u001b[1;33m\u001b[0m\u001b[0m\n\u001b[0;32m    110\u001b[0m     \u001b[1;31m# Running inside `run_distribute_coordinator` already.\u001b[0m\u001b[1;33m\u001b[0m\u001b[1;33m\u001b[0m\u001b[1;33m\u001b[0m\u001b[0m\n",
            "\u001b[1;32m~\\AppData\\Roaming\\Python\\Python38\\site-packages\\tensorflow\\python\\keras\\engine\\training.py\u001b[0m in \u001b[0;36mfit\u001b[1;34m(self, x, y, batch_size, epochs, verbose, callbacks, validation_split, validation_data, shuffle, class_weight, sample_weight, initial_epoch, steps_per_epoch, validation_steps, validation_batch_size, validation_freq, max_queue_size, workers, use_multiprocessing)\u001b[0m\n\u001b[0;32m   1096\u001b[0m                 batch_size=batch_size):\n\u001b[0;32m   1097\u001b[0m               \u001b[0mcallbacks\u001b[0m\u001b[1;33m.\u001b[0m\u001b[0mon_train_batch_begin\u001b[0m\u001b[1;33m(\u001b[0m\u001b[0mstep\u001b[0m\u001b[1;33m)\u001b[0m\u001b[1;33m\u001b[0m\u001b[1;33m\u001b[0m\u001b[0m\n\u001b[1;32m-> 1098\u001b[1;33m               \u001b[0mtmp_logs\u001b[0m \u001b[1;33m=\u001b[0m \u001b[0mtrain_function\u001b[0m\u001b[1;33m(\u001b[0m\u001b[0miterator\u001b[0m\u001b[1;33m)\u001b[0m\u001b[1;33m\u001b[0m\u001b[1;33m\u001b[0m\u001b[0m\n\u001b[0m\u001b[0;32m   1099\u001b[0m               \u001b[1;32mif\u001b[0m \u001b[0mdata_handler\u001b[0m\u001b[1;33m.\u001b[0m\u001b[0mshould_sync\u001b[0m\u001b[1;33m:\u001b[0m\u001b[1;33m\u001b[0m\u001b[1;33m\u001b[0m\u001b[0m\n\u001b[0;32m   1100\u001b[0m                 \u001b[0mcontext\u001b[0m\u001b[1;33m.\u001b[0m\u001b[0masync_wait\u001b[0m\u001b[1;33m(\u001b[0m\u001b[1;33m)\u001b[0m\u001b[1;33m\u001b[0m\u001b[1;33m\u001b[0m\u001b[0m\n",
            "\u001b[1;32m~\\AppData\\Roaming\\Python\\Python38\\site-packages\\tensorflow\\python\\eager\\def_function.py\u001b[0m in \u001b[0;36m__call__\u001b[1;34m(self, *args, **kwds)\u001b[0m\n\u001b[0;32m    778\u001b[0m       \u001b[1;32melse\u001b[0m\u001b[1;33m:\u001b[0m\u001b[1;33m\u001b[0m\u001b[1;33m\u001b[0m\u001b[0m\n\u001b[0;32m    779\u001b[0m         \u001b[0mcompiler\u001b[0m \u001b[1;33m=\u001b[0m \u001b[1;34m\"nonXla\"\u001b[0m\u001b[1;33m\u001b[0m\u001b[1;33m\u001b[0m\u001b[0m\n\u001b[1;32m--> 780\u001b[1;33m         \u001b[0mresult\u001b[0m \u001b[1;33m=\u001b[0m \u001b[0mself\u001b[0m\u001b[1;33m.\u001b[0m\u001b[0m_call\u001b[0m\u001b[1;33m(\u001b[0m\u001b[1;33m*\u001b[0m\u001b[0margs\u001b[0m\u001b[1;33m,\u001b[0m \u001b[1;33m**\u001b[0m\u001b[0mkwds\u001b[0m\u001b[1;33m)\u001b[0m\u001b[1;33m\u001b[0m\u001b[1;33m\u001b[0m\u001b[0m\n\u001b[0m\u001b[0;32m    781\u001b[0m \u001b[1;33m\u001b[0m\u001b[0m\n\u001b[0;32m    782\u001b[0m       \u001b[0mnew_tracing_count\u001b[0m \u001b[1;33m=\u001b[0m \u001b[0mself\u001b[0m\u001b[1;33m.\u001b[0m\u001b[0m_get_tracing_count\u001b[0m\u001b[1;33m(\u001b[0m\u001b[1;33m)\u001b[0m\u001b[1;33m\u001b[0m\u001b[1;33m\u001b[0m\u001b[0m\n",
            "\u001b[1;32m~\\AppData\\Roaming\\Python\\Python38\\site-packages\\tensorflow\\python\\eager\\def_function.py\u001b[0m in \u001b[0;36m_call\u001b[1;34m(self, *args, **kwds)\u001b[0m\n\u001b[0;32m    805\u001b[0m       \u001b[1;31m# In this case we have created variables on the first call, so we run the\u001b[0m\u001b[1;33m\u001b[0m\u001b[1;33m\u001b[0m\u001b[1;33m\u001b[0m\u001b[0m\n\u001b[0;32m    806\u001b[0m       \u001b[1;31m# defunned version which is guaranteed to never create variables.\u001b[0m\u001b[1;33m\u001b[0m\u001b[1;33m\u001b[0m\u001b[1;33m\u001b[0m\u001b[0m\n\u001b[1;32m--> 807\u001b[1;33m       \u001b[1;32mreturn\u001b[0m \u001b[0mself\u001b[0m\u001b[1;33m.\u001b[0m\u001b[0m_stateless_fn\u001b[0m\u001b[1;33m(\u001b[0m\u001b[1;33m*\u001b[0m\u001b[0margs\u001b[0m\u001b[1;33m,\u001b[0m \u001b[1;33m**\u001b[0m\u001b[0mkwds\u001b[0m\u001b[1;33m)\u001b[0m  \u001b[1;31m# pylint: disable=not-callable\u001b[0m\u001b[1;33m\u001b[0m\u001b[1;33m\u001b[0m\u001b[0m\n\u001b[0m\u001b[0;32m    808\u001b[0m     \u001b[1;32melif\u001b[0m \u001b[0mself\u001b[0m\u001b[1;33m.\u001b[0m\u001b[0m_stateful_fn\u001b[0m \u001b[1;32mis\u001b[0m \u001b[1;32mnot\u001b[0m \u001b[1;32mNone\u001b[0m\u001b[1;33m:\u001b[0m\u001b[1;33m\u001b[0m\u001b[1;33m\u001b[0m\u001b[0m\n\u001b[0;32m    809\u001b[0m       \u001b[1;31m# Release the lock early so that multiple threads can perform the call\u001b[0m\u001b[1;33m\u001b[0m\u001b[1;33m\u001b[0m\u001b[1;33m\u001b[0m\u001b[0m\n",
            "\u001b[1;32m~\\AppData\\Roaming\\Python\\Python38\\site-packages\\tensorflow\\python\\eager\\function.py\u001b[0m in \u001b[0;36m__call__\u001b[1;34m(self, *args, **kwargs)\u001b[0m\n\u001b[0;32m   2827\u001b[0m     \u001b[1;32mwith\u001b[0m \u001b[0mself\u001b[0m\u001b[1;33m.\u001b[0m\u001b[0m_lock\u001b[0m\u001b[1;33m:\u001b[0m\u001b[1;33m\u001b[0m\u001b[1;33m\u001b[0m\u001b[0m\n\u001b[0;32m   2828\u001b[0m       \u001b[0mgraph_function\u001b[0m\u001b[1;33m,\u001b[0m \u001b[0margs\u001b[0m\u001b[1;33m,\u001b[0m \u001b[0mkwargs\u001b[0m \u001b[1;33m=\u001b[0m \u001b[0mself\u001b[0m\u001b[1;33m.\u001b[0m\u001b[0m_maybe_define_function\u001b[0m\u001b[1;33m(\u001b[0m\u001b[0margs\u001b[0m\u001b[1;33m,\u001b[0m \u001b[0mkwargs\u001b[0m\u001b[1;33m)\u001b[0m\u001b[1;33m\u001b[0m\u001b[1;33m\u001b[0m\u001b[0m\n\u001b[1;32m-> 2829\u001b[1;33m     \u001b[1;32mreturn\u001b[0m \u001b[0mgraph_function\u001b[0m\u001b[1;33m.\u001b[0m\u001b[0m_filtered_call\u001b[0m\u001b[1;33m(\u001b[0m\u001b[0margs\u001b[0m\u001b[1;33m,\u001b[0m \u001b[0mkwargs\u001b[0m\u001b[1;33m)\u001b[0m  \u001b[1;31m# pylint: disable=protected-access\u001b[0m\u001b[1;33m\u001b[0m\u001b[1;33m\u001b[0m\u001b[0m\n\u001b[0m\u001b[0;32m   2830\u001b[0m \u001b[1;33m\u001b[0m\u001b[0m\n\u001b[0;32m   2831\u001b[0m   \u001b[1;33m@\u001b[0m\u001b[0mproperty\u001b[0m\u001b[1;33m\u001b[0m\u001b[1;33m\u001b[0m\u001b[0m\n",
            "\u001b[1;32m~\\AppData\\Roaming\\Python\\Python38\\site-packages\\tensorflow\\python\\eager\\function.py\u001b[0m in \u001b[0;36m_filtered_call\u001b[1;34m(self, args, kwargs, cancellation_manager)\u001b[0m\n\u001b[0;32m   1841\u001b[0m       \u001b[0;31m`\u001b[0m\u001b[0margs\u001b[0m\u001b[0;31m`\u001b[0m \u001b[1;32mand\u001b[0m\u001b[0;31m \u001b[0m\u001b[0;31m`\u001b[0m\u001b[0mkwargs\u001b[0m\u001b[0;31m`\u001b[0m\u001b[1;33m.\u001b[0m\u001b[1;33m\u001b[0m\u001b[1;33m\u001b[0m\u001b[0m\n\u001b[0;32m   1842\u001b[0m     \"\"\"\n\u001b[1;32m-> 1843\u001b[1;33m     return self._call_flat(\n\u001b[0m\u001b[0;32m   1844\u001b[0m         [t for t in nest.flatten((args, kwargs), expand_composites=True)\n\u001b[0;32m   1845\u001b[0m          if isinstance(t, (ops.Tensor,\n",
            "\u001b[1;32m~\\AppData\\Roaming\\Python\\Python38\\site-packages\\tensorflow\\python\\eager\\function.py\u001b[0m in \u001b[0;36m_call_flat\u001b[1;34m(self, args, captured_inputs, cancellation_manager)\u001b[0m\n\u001b[0;32m   1921\u001b[0m         and executing_eagerly):\n\u001b[0;32m   1922\u001b[0m       \u001b[1;31m# No tape is watching; skip to running the function.\u001b[0m\u001b[1;33m\u001b[0m\u001b[1;33m\u001b[0m\u001b[1;33m\u001b[0m\u001b[0m\n\u001b[1;32m-> 1923\u001b[1;33m       return self._build_call_outputs(self._inference_function.call(\n\u001b[0m\u001b[0;32m   1924\u001b[0m           ctx, args, cancellation_manager=cancellation_manager))\n\u001b[0;32m   1925\u001b[0m     forward_backward = self._select_forward_and_backward_functions(\n",
            "\u001b[1;32m~\\AppData\\Roaming\\Python\\Python38\\site-packages\\tensorflow\\python\\eager\\function.py\u001b[0m in \u001b[0;36mcall\u001b[1;34m(self, ctx, args, cancellation_manager)\u001b[0m\n\u001b[0;32m    543\u001b[0m       \u001b[1;32mwith\u001b[0m \u001b[0m_InterpolateFunctionError\u001b[0m\u001b[1;33m(\u001b[0m\u001b[0mself\u001b[0m\u001b[1;33m)\u001b[0m\u001b[1;33m:\u001b[0m\u001b[1;33m\u001b[0m\u001b[1;33m\u001b[0m\u001b[0m\n\u001b[0;32m    544\u001b[0m         \u001b[1;32mif\u001b[0m \u001b[0mcancellation_manager\u001b[0m \u001b[1;32mis\u001b[0m \u001b[1;32mNone\u001b[0m\u001b[1;33m:\u001b[0m\u001b[1;33m\u001b[0m\u001b[1;33m\u001b[0m\u001b[0m\n\u001b[1;32m--> 545\u001b[1;33m           outputs = execute.execute(\n\u001b[0m\u001b[0;32m    546\u001b[0m               \u001b[0mstr\u001b[0m\u001b[1;33m(\u001b[0m\u001b[0mself\u001b[0m\u001b[1;33m.\u001b[0m\u001b[0msignature\u001b[0m\u001b[1;33m.\u001b[0m\u001b[0mname\u001b[0m\u001b[1;33m)\u001b[0m\u001b[1;33m,\u001b[0m\u001b[1;33m\u001b[0m\u001b[1;33m\u001b[0m\u001b[0m\n\u001b[0;32m    547\u001b[0m               \u001b[0mnum_outputs\u001b[0m\u001b[1;33m=\u001b[0m\u001b[0mself\u001b[0m\u001b[1;33m.\u001b[0m\u001b[0m_num_outputs\u001b[0m\u001b[1;33m,\u001b[0m\u001b[1;33m\u001b[0m\u001b[1;33m\u001b[0m\u001b[0m\n",
            "\u001b[1;32m~\\AppData\\Roaming\\Python\\Python38\\site-packages\\tensorflow\\python\\eager\\execute.py\u001b[0m in \u001b[0;36mquick_execute\u001b[1;34m(op_name, num_outputs, inputs, attrs, ctx, name)\u001b[0m\n\u001b[0;32m     57\u001b[0m   \u001b[1;32mtry\u001b[0m\u001b[1;33m:\u001b[0m\u001b[1;33m\u001b[0m\u001b[1;33m\u001b[0m\u001b[0m\n\u001b[0;32m     58\u001b[0m     \u001b[0mctx\u001b[0m\u001b[1;33m.\u001b[0m\u001b[0mensure_initialized\u001b[0m\u001b[1;33m(\u001b[0m\u001b[1;33m)\u001b[0m\u001b[1;33m\u001b[0m\u001b[1;33m\u001b[0m\u001b[0m\n\u001b[1;32m---> 59\u001b[1;33m     tensors = pywrap_tfe.TFE_Py_Execute(ctx._handle, device_name, op_name,\n\u001b[0m\u001b[0;32m     60\u001b[0m                                         inputs, attrs, num_outputs)\n\u001b[0;32m     61\u001b[0m   \u001b[1;32mexcept\u001b[0m \u001b[0mcore\u001b[0m\u001b[1;33m.\u001b[0m\u001b[0m_NotOkStatusException\u001b[0m \u001b[1;32mas\u001b[0m \u001b[0me\u001b[0m\u001b[1;33m:\u001b[0m\u001b[1;33m\u001b[0m\u001b[1;33m\u001b[0m\u001b[0m\n",
            "\u001b[1;31mKeyboardInterrupt\u001b[0m: "
          ]
        }
      ]
    },
    {
      "cell_type": "code",
      "metadata": {
        "id": "Zi7rwJcrC_WB"
      },
      "source": [
        "val_loss = history.history['val_loss']\r\n",
        "loss = history.history['loss']\r\n",
        "\r\n",
        "plt.plot(val_loss)\r\n",
        "plt.plot(loss)\r\n",
        "plt.xlabel('Epochs')\r\n",
        "plt.ylabel('Loss')\r\n",
        "plt.legend(['Val error', 'Train error'], loc = 'upper right')\r\n",
        "plt.savefig('plot_error.png')\r\n",
        "plt.show()\r\n"
      ],
      "execution_count": null,
      "outputs": []
    },
    {
      "cell_type": "code",
      "metadata": {
        "id": "6OaZrfuSDwli"
      },
      "source": [
        "input_model = Input(64, name = 'input_layer')\r\n",
        "\r\n",
        "classifier = Dense(64, activation = 'relu')(input_model)\r\n",
        "classifier = Dense(32, activation = 'relu')(classifier)\r\n",
        "output = Dense(10, activation = 'relu')(classifier)\r\n",
        "\r\n",
        "classifier = Model(inputs = [input_model], outputs = output)\r\n",
        "classifier.summary()\r\n"
      ],
      "execution_count": null,
      "outputs": []
    },
    {
      "cell_type": "code",
      "metadata": {
        "id": "rKxxRdXnEqWJ"
      },
      "source": [
        "adam = adam(lr = 0.01, momentum = 0.99)\r\n",
        "classifier.compile(optimizer=adam, loss='categorical_crossentropy', \r\n",
        "                   metrics = ['accuracy'])"
      ],
      "execution_count": null,
      "outputs": []
    },
    {
      "cell_type": "code",
      "metadata": {
        "id": "RxOKWKifFg0_"
      },
      "source": [
        "es = EarlyStopping(monitor = 'val_loss', mode = 'auto', verbose = 1, patience = 5 )\r\n",
        "lrr = ReduceLROnPlateau(monitor = 'vall_loss', factor =0.01, patience =2, min_lr =1e-8)"
      ],
      "execution_count": null,
      "outputs": []
    },
    {
      "cell_type": "code",
      "metadata": {
        "id": "RyXGHzXjF9Tu"
      },
      "source": [
        "train_label = to_categorical(train_labels[:5000])\r\n",
        "latent_vector = Encoder.predict(train_data[:5000])\r\n",
        "history = classifier.fit(latent_vector, train_label, batch_size = 128,\r\n",
        "                         validation_split = 0.2, epochs = 50,\r\n",
        "                         verbose = 1, callbacks = [es, lrr])"
      ],
      "execution_count": null,
      "outputs": []
    },
    {
      "cell_type": "code",
      "metadata": {
        "id": "L7wrmuU8GvSW"
      },
      "source": [
        "val_loss = history.history['val_loss']\r\n",
        "loss = history.history['loss']\r\n",
        "\r\n",
        "plt.plot(val_loss)\r\n",
        "plt.plot(loss)\r\n",
        "plt.xlabel('Epochs')\r\n",
        "plt.ylabel('Loss')\r\n",
        "plt.legend(['Val error', 'Train error'], loc = 'upper right')\r\n",
        "plt.savefig('plot_error.png')\r\n",
        "plt.show()\r\n"
      ],
      "execution_count": null,
      "outputs": []
    },
    {
      "cell_type": "code",
      "metadata": {
        "id": "5qxi0X7xG5Ir"
      },
      "source": [
        "val_loss = history.history['val_loss']\r\n",
        "loss = history.history['loss']\r\n",
        "\r\n",
        "plt.plot(val_loss)\r\n",
        "plt.plot(loss)\r\n",
        "plt.xlabel('Epochs')\r\n",
        "plt.ylabel('accuracy')\r\n",
        "plt.legend(['Val accuracy', 'Train accuracy'], loc = 'upper right')\r\n",
        "plt.savefig('plot_accuracy.png')\r\n",
        "plt.show()\r\n"
      ],
      "execution_count": null,
      "outputs": []
    }
  ]
}